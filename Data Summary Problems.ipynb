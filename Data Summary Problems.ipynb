{
 "cells": [
  {
   "cell_type": "markdown",
   "id": "2e9ff14e",
   "metadata": {},
   "source": [
    "#### First, Let's Install All impostant libararies for our analysis"
   ]
  },
  {
   "cell_type": "code",
   "execution_count": 65,
   "id": "afe16bf7",
   "metadata": {},
   "outputs": [],
   "source": [
    "import pandas as pd\n",
    "\n",
    "import seaborn as sns\n",
    "import matplotlib.pyplot as plt\n",
    "%matplotlib inline\n"
   ]
  },
  {
   "cell_type": "markdown",
   "id": "f39f354c",
   "metadata": {},
   "source": [
    "# 1. Comparing Compact SUVs"
   ]
  },
  {
   "cell_type": "markdown",
   "id": "bc4edba4",
   "metadata": {},
   "source": [
    "Consumer Reports evaluates products for consumers. The file CompactSUV contains the data for 15 compact sports util- ity vehicles (SUVs) from the 2018 model line (Consumer Reports website):\n",
    "<br>\n",
    "<br>\n",
    "Make—manufacturer\n",
    "<br>\n",
    "Model—name of the model\n",
    "<br>\n",
    "Overall score—awarded based on a variety of measures, including those in this data set \n",
    "<br>\n",
    "Recommended—Consumer Reports recommends the vehicle or not\n",
    "<br>\n",
    "Owner satisfaction—satisfaction on a five-point scale based on the percentage of owners who would purchase the vehicle again (– –, –, 0, +, ++)\n",
    "<br>\n",
    "Overall miles per gallon—miles per gallon achieved in a 150-mile test trip.\n",
    "<br>\n",
    "Acceleration (0–60 sec)—time in seconds it takes vehicle to reach 60 miles per hour from a standstill with the engine idling.\n",
    "\n",
    "a. How many variables are in the data set?\n",
    "<br>\n",
    "b. Which of the variables are categorical, and which are quantitative?\n",
    "<br>\n",
    "c. What percentage of these 15 vehicles are recommended?\n",
    "<br>\n",
    "d. What is the average of the overall miles per gallon across all 15 vehicles?\n",
    "<br>\n",
    "e. For owner satisfaction, construct a bar chart similar\n",
    "<br>\n",
    "f. Show the frequency distribution for acceleration using the following intervals: 7.0– 7.9, 8.0–8.9, 9.0–9.9, and 10.0–10.9. Construct a histogram \n",
    "<br>"
   ]
  },
  {
   "cell_type": "markdown",
   "id": "87f0329f",
   "metadata": {},
   "source": [
    "#### First Let's panda library and read the data set. And keep [d,i,t,c,h] describe ,info, table, col_names and head ready for data view."
   ]
  },
  {
   "cell_type": "code",
   "execution_count": 183,
   "id": "4d421a61",
   "metadata": {},
   "outputs": [
    {
     "data": {
      "text/html": [
       "<div>\n",
       "<style scoped>\n",
       "    .dataframe tbody tr th:only-of-type {\n",
       "        vertical-align: middle;\n",
       "    }\n",
       "\n",
       "    .dataframe tbody tr th {\n",
       "        vertical-align: top;\n",
       "    }\n",
       "\n",
       "    .dataframe thead th {\n",
       "        text-align: right;\n",
       "    }\n",
       "</style>\n",
       "<table border=\"1\" class=\"dataframe\">\n",
       "  <thead>\n",
       "    <tr style=\"text-align: right;\">\n",
       "      <th></th>\n",
       "      <th>Make</th>\n",
       "      <th>Model</th>\n",
       "      <th>Overall Score</th>\n",
       "      <th>Recommended</th>\n",
       "      <th>Owner Satisfaction</th>\n",
       "      <th>Overall Miles Per Gallon</th>\n",
       "      <th>Acceleration (0-60) Sec</th>\n",
       "    </tr>\n",
       "  </thead>\n",
       "  <tbody>\n",
       "    <tr>\n",
       "      <th>0</th>\n",
       "      <td>Subaru</td>\n",
       "      <td>Forester</td>\n",
       "      <td>84</td>\n",
       "      <td>Yes</td>\n",
       "      <td>+</td>\n",
       "      <td>26</td>\n",
       "      <td>8.7</td>\n",
       "    </tr>\n",
       "    <tr>\n",
       "      <th>1</th>\n",
       "      <td>Honda</td>\n",
       "      <td>CRV</td>\n",
       "      <td>83</td>\n",
       "      <td>Yes</td>\n",
       "      <td>++</td>\n",
       "      <td>27</td>\n",
       "      <td>8.6</td>\n",
       "    </tr>\n",
       "    <tr>\n",
       "      <th>2</th>\n",
       "      <td>Toyota</td>\n",
       "      <td>Rav4</td>\n",
       "      <td>81</td>\n",
       "      <td>Yes</td>\n",
       "      <td>++</td>\n",
       "      <td>24</td>\n",
       "      <td>9.3</td>\n",
       "    </tr>\n",
       "    <tr>\n",
       "      <th>3</th>\n",
       "      <td>Nissan</td>\n",
       "      <td>Rogue</td>\n",
       "      <td>73</td>\n",
       "      <td>Yes</td>\n",
       "      <td>+</td>\n",
       "      <td>24</td>\n",
       "      <td>9.5</td>\n",
       "    </tr>\n",
       "    <tr>\n",
       "      <th>4</th>\n",
       "      <td>Mazda</td>\n",
       "      <td>CX-5</td>\n",
       "      <td>71</td>\n",
       "      <td>Yes</td>\n",
       "      <td>++</td>\n",
       "      <td>24</td>\n",
       "      <td>8.6</td>\n",
       "    </tr>\n",
       "  </tbody>\n",
       "</table>\n",
       "</div>"
      ],
      "text/plain": [
       "     Make     Model  Overall Score Recommended Owner Satisfaction  \\\n",
       "0  Subaru  Forester             84         Yes                  +   \n",
       "1   Honda       CRV             83         Yes                 ++   \n",
       "2  Toyota      Rav4             81         Yes                 ++   \n",
       "3  Nissan     Rogue             73         Yes                  +   \n",
       "4   Mazda      CX-5             71         Yes                 ++   \n",
       "\n",
       "   Overall Miles Per Gallon  Acceleration (0-60) Sec  \n",
       "0                        26                      8.7  \n",
       "1                        27                      8.6  \n",
       "2                        24                      9.3  \n",
       "3                        24                      9.5  \n",
       "4                        24                      8.6  "
      ]
     },
     "execution_count": 183,
     "metadata": {},
     "output_type": "execute_result"
    }
   ],
   "source": [
    "suv = pd.read_excel(\"CompactSUV.xlsx\")\n",
    "\n",
    "d = suv.describe()\n",
    "i = suv.info\n",
    "t = suv.groupby(\"Make\").sum()\n",
    "c = suv.columns\n",
    "h = suv.head()\n",
    "h"
   ]
  },
  {
   "cell_type": "markdown",
   "id": "fc1570ee",
   "metadata": {},
   "source": [
    "#### A. How many variables are in the data set?"
   ]
  },
  {
   "cell_type": "code",
   "execution_count": 184,
   "id": "b167faed",
   "metadata": {},
   "outputs": [
    {
     "name": "stdout",
     "output_type": "stream",
     "text": [
      "Total variables in the data set are 15\n"
     ]
    }
   ],
   "source": [
    "print(\"Total variables in the data set are\" , suv.shape[0])"
   ]
  },
  {
   "cell_type": "markdown",
   "id": "f08d4bdb",
   "metadata": {},
   "source": [
    "#### B. Which of the variables are categorical, and which are quantitative?"
   ]
  },
  {
   "cell_type": "code",
   "execution_count": 185,
   "id": "72242dbf",
   "metadata": {
    "scrolled": true
   },
   "outputs": [
    {
     "data": {
      "text/html": [
       "<div>\n",
       "<style scoped>\n",
       "    .dataframe tbody tr th:only-of-type {\n",
       "        vertical-align: middle;\n",
       "    }\n",
       "\n",
       "    .dataframe tbody tr th {\n",
       "        vertical-align: top;\n",
       "    }\n",
       "\n",
       "    .dataframe thead th {\n",
       "        text-align: right;\n",
       "    }\n",
       "</style>\n",
       "<table border=\"1\" class=\"dataframe\">\n",
       "  <thead>\n",
       "    <tr style=\"text-align: right;\">\n",
       "      <th></th>\n",
       "      <th>Make</th>\n",
       "      <th>Model</th>\n",
       "      <th>Overall Score</th>\n",
       "      <th>Recommended</th>\n",
       "      <th>Owner Satisfaction</th>\n",
       "      <th>Overall Miles Per Gallon</th>\n",
       "      <th>Acceleration (0-60) Sec</th>\n",
       "    </tr>\n",
       "  </thead>\n",
       "  <tbody>\n",
       "    <tr>\n",
       "      <th>0</th>\n",
       "      <td>Subaru</td>\n",
       "      <td>Forester</td>\n",
       "      <td>84</td>\n",
       "      <td>Yes</td>\n",
       "      <td>+</td>\n",
       "      <td>26</td>\n",
       "      <td>8.7</td>\n",
       "    </tr>\n",
       "    <tr>\n",
       "      <th>1</th>\n",
       "      <td>Honda</td>\n",
       "      <td>CRV</td>\n",
       "      <td>83</td>\n",
       "      <td>Yes</td>\n",
       "      <td>++</td>\n",
       "      <td>27</td>\n",
       "      <td>8.6</td>\n",
       "    </tr>\n",
       "    <tr>\n",
       "      <th>2</th>\n",
       "      <td>Toyota</td>\n",
       "      <td>Rav4</td>\n",
       "      <td>81</td>\n",
       "      <td>Yes</td>\n",
       "      <td>++</td>\n",
       "      <td>24</td>\n",
       "      <td>9.3</td>\n",
       "    </tr>\n",
       "    <tr>\n",
       "      <th>3</th>\n",
       "      <td>Nissan</td>\n",
       "      <td>Rogue</td>\n",
       "      <td>73</td>\n",
       "      <td>Yes</td>\n",
       "      <td>+</td>\n",
       "      <td>24</td>\n",
       "      <td>9.5</td>\n",
       "    </tr>\n",
       "    <tr>\n",
       "      <th>4</th>\n",
       "      <td>Mazda</td>\n",
       "      <td>CX-5</td>\n",
       "      <td>71</td>\n",
       "      <td>Yes</td>\n",
       "      <td>++</td>\n",
       "      <td>24</td>\n",
       "      <td>8.6</td>\n",
       "    </tr>\n",
       "  </tbody>\n",
       "</table>\n",
       "</div>"
      ],
      "text/plain": [
       "     Make     Model  Overall Score Recommended Owner Satisfaction  \\\n",
       "0  Subaru  Forester             84         Yes                  +   \n",
       "1   Honda       CRV             83         Yes                 ++   \n",
       "2  Toyota      Rav4             81         Yes                 ++   \n",
       "3  Nissan     Rogue             73         Yes                  +   \n",
       "4   Mazda      CX-5             71         Yes                 ++   \n",
       "\n",
       "   Overall Miles Per Gallon  Acceleration (0-60) Sec  \n",
       "0                        26                      8.7  \n",
       "1                        27                      8.6  \n",
       "2                        24                      9.3  \n",
       "3                        24                      9.5  \n",
       "4                        24                      8.6  "
      ]
     },
     "execution_count": 185,
     "metadata": {},
     "output_type": "execute_result"
    }
   ],
   "source": [
    "#Dont confuse Column with integer data type as quantative variables.\n",
    "#Integers column can be qualitative and float can be quantative.\n",
    "\n",
    "h\n",
    "\n",
    "#1. Make, Model,recommend, Owner Satisfaction columns are qualatative.\n",
    "#2. Overall Miles Per Gallon,Score, Acceleration (0-60) Sec are quantative columns."
   ]
  },
  {
   "cell_type": "markdown",
   "id": "54d5f955",
   "metadata": {},
   "source": [
    "#### C. What percentage of these 15 vehicles are recommended?"
   ]
  },
  {
   "cell_type": "code",
   "execution_count": 186,
   "id": "6a895167",
   "metadata": {},
   "outputs": [
    {
     "name": "stdout",
     "output_type": "stream",
     "text": [
      "46.67 %\n"
     ]
    }
   ],
   "source": [
    "#This question is basically about finding ratio with in a columns with two values.\n",
    "\n",
    "recommened_cars = suv[suv[\"Recommended\"].isin([\"Yes\"])].shape[0]\n",
    "total_Cars = suv.shape[0]\n",
    "\n",
    "recommened_to_total_Ratio = recommened_cars/total_Cars\n",
    "\n",
    "#Lets round the number upto two decimal percentage\n",
    "print(round(recommened_to_total_Ratio,4)*100,\"%\")"
   ]
  },
  {
   "cell_type": "markdown",
   "id": "80bab91a",
   "metadata": {},
   "source": [
    "#### D. What is the average of the overall miles per gallon across all 15 vehicles?"
   ]
  },
  {
   "cell_type": "code",
   "execution_count": 187,
   "id": "d4e96f7a",
   "metadata": {},
   "outputs": [
    {
     "data": {
      "text/plain": [
       "24.4"
      ]
     },
     "execution_count": 187,
     "metadata": {},
     "output_type": "execute_result"
    }
   ],
   "source": [
    "suv[\"Overall Miles Per Gallon\"].mean()"
   ]
  },
  {
   "cell_type": "markdown",
   "id": "ebd7a237",
   "metadata": {},
   "source": [
    "#### E. For owner satisfaction, construct a bar chart."
   ]
  },
  {
   "cell_type": "code",
   "execution_count": 188,
   "id": "be4a975d",
   "metadata": {},
   "outputs": [
    {
     "data": {
      "image/png": "[encoded data removed]",
      "text/plain": [
       "<Figure size 432x288 with 1 Axes>"
      ]
     },
     "metadata": {
      "needs_background": "light"
     },
     "output_type": "display_data"
    }
   ],
   "source": [
    "#First Lets group a qualitativ column whihc want to place on x axis and see its frequency distribution of the column\n",
    "os_group = suv.groupby(\"Owner Satisfaction\")\n",
    "os_group.size()\n",
    "\n",
    "#Now lets see all other columns count w.r.t this os_group. Obvisouly count for each column will come same.\n",
    "os_group.count()\n",
    "\n",
    "#Now lets see first sum and then average of each column w.r.t os_group \n",
    "os_group.sum()\n",
    "os_group.mean()\n",
    "\n",
    "#If we want to see just one column count or sum or mean w.r.t to os_group just put column name next to command.\n",
    "os_group.sum()[\"Acceleration (0-60) Sec\"]\n",
    "os_group.mean()[\"Overall Miles Per Gallon\"]\n",
    "\n",
    "#Now we can visulize this group values and respective stat value on bar chart. here we are using count in this problem\n",
    "os_bar = os_group.count()[\"Overall Score\"].plot(kind = \"bar\", facecolor = \"b\") #Try sum or mean instead of count\n",
    "\n",
    "os_bar.set_title(\"Barplot of Owner Satisfaction\")\n",
    "plt.ylabel(\"Count of cars\")\n",
    "\n",
    "plt.show()\n",
    "\n"
   ]
  },
  {
   "cell_type": "markdown",
   "id": "63b36d0a",
   "metadata": {},
   "source": [
    "#### F. Show the frequency distribution for acceleration using the following intervals: 7.0– 7.9, 8.0–8.9, 9.0–9.9, and 10.0–10.9."
   ]
  },
  {
   "cell_type": "code",
   "execution_count": 189,
   "id": "0264f5ec",
   "metadata": {},
   "outputs": [
    {
     "data": {
      "image/png": "[encoded data removed]",
      "text/plain": [
       "<Figure size 432x288 with 1 Axes>"
      ]
     },
     "metadata": {
      "needs_background": "light"
     },
     "output_type": "display_data"
    }
   ],
   "source": [
    "#Please note that below histogram is made with matplotlib library\n",
    "\n",
    "#First lets make the eddges for bins w.r.t x reuired values exaple first bin starting from 7 to 7.9\n",
    "bin_edges = [7,7.9,8.9,9.9,11]\n",
    "\n",
    "acc_hist = suv[\"Acceleration (0-60) Sec\"].plot(kind = \"hist\", facecolor='g',alpha=0.5,bins = bin_edges,edgecolor='g')\n",
    "\n",
    "# facecolor - is to choose color for the chart such as \"r\" , \"y\" ,\"b\"\n",
    "# alpha - opcaticy. take svalue from 0 to 1\n",
    "# bins - either give a single digit for number of bins OR  make a list of for esges of each bin.\n",
    "# edgecolor -  choose a color for edges of bins such as \"g\" , \"k\", \"r\"\n",
    "\n",
    "\n",
    "acc_hist.set_title(\"Histogram of Acceleration\")\n",
    "plt.xlabel(\"Acceleration\")    # X xis name\n",
    "plt.xticks([7,7.9,8.9,9.9,10.9])     #points for x axis\n",
    "plt.ylabel(\"Number of cars\")  # Y axis name\n",
    "\n",
    "plt.show() # To see final plot"
   ]
  },
  {
   "cell_type": "markdown",
   "id": "0168444d",
   "metadata": {},
   "source": [
    "_____________________________________________________________________________________________________________________"
   ]
  },
  {
   "cell_type": "markdown",
   "id": "0a77416e",
   "metadata": {},
   "source": [
    "## 2. Most Popular Last Names"
   ]
  },
  {
   "cell_type": "markdown",
   "id": "4267b51d",
   "metadata": {},
   "source": [
    "In alphabetical order, the six most common last names\n",
    "in the United States in 2018 are Brown, Garcia, Johnson, Jones, Smith, and Williams\n",
    "(United States Census Bureau website). Assume that a sample of 50 individuals\n",
    "with one of these last names provided the excel file.\n",
    "\n",
    "<br>\n",
    "Summarize the data by constructing the following:\n",
    "<br>\n",
    "a. Relative and percent frequency distributions\n",
    "<br>\n",
    "b. A sorted bar chart\n",
    "<br>\n",
    "c. A pie chart\n",
    "<br>\n",
    "d. Based on these data, what are the three most common last names? Which type of\n",
    "chart makes this most apparent?"
   ]
  },
  {
   "cell_type": "code",
   "execution_count": 190,
   "id": "a1e3d701",
   "metadata": {},
   "outputs": [],
   "source": [
    "names = pd.read_excel(\"names2018.xlsx\")\n",
    "names = names.drop([\"Unnamed: 1\" ,\"Unnamed: 2\",\"Unnamed: 3\",\"Unnamed: 4\"], axis=1) #Delete_Multiple_columns\n",
    "\n",
    "names[\"Index\"] = range(1,len(names)+1)"
   ]
  },
  {
   "cell_type": "markdown",
   "id": "d4075354",
   "metadata": {},
   "source": [
    "#### A. Relative and percent frequency distributions"
   ]
  },
  {
   "cell_type": "code",
   "execution_count": 191,
   "id": "f6072969",
   "metadata": {},
   "outputs": [
    {
     "name": "stdout",
     "output_type": "stream",
     "text": [
      "Last Name\n",
      "Smith       12\n",
      "Johnson     10\n",
      "Williams     8\n",
      "Brown        7\n",
      "Jones        7\n",
      "Garcia       6\n",
      "Name: Index, dtype: int64 \n",
      "\n",
      "Relative Frequency\n"
     ]
    },
    {
     "data": {
      "text/plain": [
       "[('Jones', 0.14),\n",
       " ('Johnson', 0.2),\n",
       " ('Garcia', 0.12),\n",
       " ('Brown', 0.14),\n",
       " ('Smith', 0.24),\n",
       " ('Williams', 0.16)]"
      ]
     },
     "execution_count": 191,
     "metadata": {},
     "output_type": "execute_result"
    }
   ],
   "source": [
    "#This Time we will see sorted values distributiuon \n",
    "ln_group = names.groupby(\"Last Name\")\n",
    "print(ln_group.count()[\"Index\"].sort_values(ascending=False) ,\"\\n\") #Sort_Groupby\n",
    "\n",
    "\n",
    "#For the second part of the problem. Lets write a function to produce relative frequncies.\n",
    "print(\"Relative Frequency\")\n",
    "def rel_freq(x):   #Lets create a functiomn for the relative frequency.\n",
    "    freqs = [(value, x.count(value) / len(x)) for value in set(x)] \n",
    "    return freqs\n",
    "\n",
    "x = list(names[\"Last Name\"])\n",
    "rel_freq(x)"
   ]
  },
  {
   "cell_type": "markdown",
   "id": "405dd986",
   "metadata": {},
   "source": [
    "#### B . Sorted Bar chart "
   ]
  },
  {
   "cell_type": "code",
   "execution_count": 192,
   "id": "a158be8e",
   "metadata": {},
   "outputs": [
    {
     "data": {
      "image/png": "[encoded data removed]",
      "text/plain": [
       "<Figure size 432x288 with 1 Axes>"
      ]
     },
     "metadata": {
      "needs_background": "light"
     },
     "output_type": "display_data"
    }
   ],
   "source": [
    "ln_group = names.groupby(\"Last Name\")\n",
    "\n",
    "#Making SORTED Bar chart\n",
    "\n",
    "ln_bar = ln_group.count()[\"Index\"].sort_values(ascending= False).plot(kind = \"bar\", facecolor='r' ) #Sorted_Bar_Chart\n",
    "plt.ylabel(\"Frequency distribution\")\n",
    "plt.title(\"Most repeated names in USA\")\n",
    "plt.show()"
   ]
  },
  {
   "cell_type": "markdown",
   "id": "8022f954",
   "metadata": {},
   "source": [
    "#### C. Create Pie chart"
   ]
  },
  {
   "cell_type": "code",
   "execution_count": 193,
   "id": "f373a556",
   "metadata": {},
   "outputs": [
    {
     "data": {
      "image/png": "[encoded data removed]",
      "text/plain": [
       "<Figure size 432x288 with 1 Axes>"
      ]
     },
     "metadata": {},
     "output_type": "display_data"
    }
   ],
   "source": [
    "ln_bar = ln_group.count()[\"Index\"].sort_values(ascending= False).plot(kind = \"pie\", ) \n",
    "plt.title(\"Most repeated names in USA\")\n",
    "plt.show()\n"
   ]
  },
  {
   "cell_type": "markdown",
   "id": "074aceda",
   "metadata": {},
   "source": [
    "#### E.  Based on these data, what are the three most common last names? Which type of chart makes this most apparent?"
   ]
  },
  {
   "cell_type": "code",
   "execution_count": 194,
   "id": "30cd43a7",
   "metadata": {},
   "outputs": [],
   "source": [
    "#From Sorted bar charts can say that Smith and Jhinson are the most common last names"
   ]
  },
  {
   "cell_type": "markdown",
   "id": "ff74ceb8",
   "metadata": {},
   "source": [
    "____________________________________________________________________________________________________________________"
   ]
  },
  {
   "cell_type": "markdown",
   "id": "518cef2b",
   "metadata": {},
   "source": [
    "## 3. NBA Player Rating"
   ]
  },
  {
   "cell_type": "markdown",
   "id": "de8c55c1",
   "metadata": {},
   "source": [
    "CBSSports.com developed the Total Player Ratings system\n",
    "to rate players in the National Basketball Association (NBA) based upon various\n",
    "offensive and defensive statistics. The following data show the average number of\n",
    "points scored per game (PPG) for 50 players with the highest ratings for a portion of\n",
    "an NBA season (CBSSports.com website).\n",
    "\n",
    "Use classes starting at 10 and ending at 30 in increments of 2 for PPG in the\n",
    "following.\n",
    "<br>\n",
    "a. Show the frequency distribution.\n",
    "<br>\n",
    "b. Show the relative frequency distribution.\n",
    "<br>\n",
    "c. Show the cumulative percent frequency distribution.\n",
    "<br>\n",
    "d. Develop a histogram for the average number of points scored per game.\n",
    "<br>\n",
    "e. Do the data appear to be skewed? Explain.\n",
    "<br>\n",
    "f. What percentage of the players averaged at least 20 points per game?"
   ]
  },
  {
   "cell_type": "code",
   "execution_count": 118,
   "id": "8d02914d",
   "metadata": {},
   "outputs": [
    {
     "data": {
      "text/html": [
       "<div>\n",
       "<style scoped>\n",
       "    .dataframe tbody tr th:only-of-type {\n",
       "        vertical-align: middle;\n",
       "    }\n",
       "\n",
       "    .dataframe tbody tr th {\n",
       "        vertical-align: top;\n",
       "    }\n",
       "\n",
       "    .dataframe thead th {\n",
       "        text-align: right;\n",
       "    }\n",
       "</style>\n",
       "<table border=\"1\" class=\"dataframe\">\n",
       "  <thead>\n",
       "    <tr style=\"text-align: right;\">\n",
       "      <th></th>\n",
       "      <th>Rank</th>\n",
       "      <th>Player</th>\n",
       "      <th>PPG</th>\n",
       "    </tr>\n",
       "  </thead>\n",
       "  <tbody>\n",
       "    <tr>\n",
       "      <th>0</th>\n",
       "      <td>1</td>\n",
       "      <td>LeBron James, MIA</td>\n",
       "      <td>27.0</td>\n",
       "    </tr>\n",
       "    <tr>\n",
       "      <th>1</th>\n",
       "      <td>2</td>\n",
       "      <td>Kevin Durant, OKC</td>\n",
       "      <td>28.8</td>\n",
       "    </tr>\n",
       "    <tr>\n",
       "      <th>2</th>\n",
       "      <td>3</td>\n",
       "      <td>James Harden, HOU</td>\n",
       "      <td>26.4</td>\n",
       "    </tr>\n",
       "    <tr>\n",
       "      <th>3</th>\n",
       "      <td>4</td>\n",
       "      <td>Kobe Bryant, LAL</td>\n",
       "      <td>27.1</td>\n",
       "    </tr>\n",
       "    <tr>\n",
       "      <th>4</th>\n",
       "      <td>5</td>\n",
       "      <td>Russell Westbrook, OKC</td>\n",
       "      <td>22.9</td>\n",
       "    </tr>\n",
       "  </tbody>\n",
       "</table>\n",
       "</div>"
      ],
      "text/plain": [
       "   Rank                  Player   PPG\n",
       "0     1       LeBron James, MIA  27.0\n",
       "1     2       Kevin Durant, OKC  28.8\n",
       "2     3       James Harden, HOU  26.4\n",
       "3     4        Kobe Bryant, LAL  27.1\n",
       "4     5  Russell Westbrook, OKC  22.9"
      ]
     },
     "execution_count": 118,
     "metadata": {},
     "output_type": "execute_result"
    }
   ],
   "source": [
    "nba = pd.read_excel(\"NBAPlayerPts.xlsx\")\n",
    "nba.head()"
   ]
  },
  {
   "cell_type": "markdown",
   "id": "17eb27c1",
   "metadata": {},
   "source": [
    "#### A. Show the frequency distribution of PPG"
   ]
  },
  {
   "cell_type": "code",
   "execution_count": 287,
   "id": "71e3f17b",
   "metadata": {},
   "outputs": [
    {
     "name": "stdout",
     "output_type": "stream",
     "text": [
      "Method 1 Output:\n",
      "16-18    19\n",
      "18-20     9\n",
      "14-16     7\n",
      "20-22     4\n",
      "26-28     3\n",
      "12-14     3\n",
      "22-24     2\n",
      "28-30     2\n",
      "10-12     1\n",
      "Name: PPG_Class, dtype: int64\n"
     ]
    }
   ],
   "source": [
    "#First Lets make a list contatining PPG classes, and then add into our data frame as new column.\n",
    "\n",
    "z = []\n",
    "for i in nba[\"PPG\"]:\n",
    "    if i >= 10 and i <12:\n",
    "        z.append(\"10-12\")\n",
    "    elif i >=12 and i <14:\n",
    "        z.append(\"12-14\")\n",
    "    elif i >=14 and i <16:\n",
    "        z.append(\"14-16\")\n",
    "    elif i >=16 and i <18:\n",
    "        z.append(\"16-18\")\n",
    "    elif i >=18 and i <20:\n",
    "        z.append(\"18-20\")       \n",
    "    elif i >=20 and i <22:\n",
    "        z.append(\"20-22\")\n",
    "    elif i >=22 and i <24:\n",
    "        z.append(\"22-24\")\n",
    "    elif i>= 24 and i <26:\n",
    "        z.append(\"24-26\")\n",
    "    elif i >=26 and i <28:\n",
    "        z.append(\"26-28\")\n",
    "    elif i >=28 and i <30:\n",
    "        z.append(\"28-30\")\n",
    "    else:\n",
    "        pass\n",
    "nba[\"PPG_Class\"] = z   #Add_column_in_dataframe\n",
    "\n",
    "#Frequency distributioin:\n",
    "print(\"Method 1 Output:\")\n",
    "print(nba[\"PPG_Class\"].value_counts())\n"
   ]
  },
  {
   "cell_type": "markdown",
   "id": "e0abb4ad",
   "metadata": {},
   "source": [
    "#### B. Show the relative frequency distribution."
   ]
  },
  {
   "cell_type": "code",
   "execution_count": 259,
   "id": "1a3b699f",
   "metadata": {},
   "outputs": [
    {
     "data": {
      "text/plain": [
       "10-12    0.02\n",
       "12-14    0.06\n",
       "14-16    0.14\n",
       "16-18    0.38\n",
       "18-20    0.18\n",
       "20-22    0.08\n",
       "22-24    0.04\n",
       "26-28    0.06\n",
       "28-30    0.04\n",
       "Name: PPG_Class, dtype: float64"
      ]
     },
     "execution_count": 259,
     "metadata": {},
     "output_type": "execute_result"
    }
   ],
   "source": [
    "nba[\"PPG_Class\"].value_counts(normalize=True).sort_index()"
   ]
  },
  {
   "cell_type": "markdown",
   "id": "14ca4ade",
   "metadata": {},
   "source": [
    "#### C. Show the cumulative percent frequency distribution"
   ]
  },
  {
   "cell_type": "code",
   "execution_count": 279,
   "id": "3792d972",
   "metadata": {},
   "outputs": [
    {
     "name": "stdout",
     "output_type": "stream",
     "text": [
      "Cummulative percent Frerquency: \n",
      "\n",
      "10-12      2.0\n",
      "12-14      8.0\n",
      "14-16     22.0\n",
      "16-18     60.0\n",
      "18-20     78.0\n",
      "20-22     86.0\n",
      "22-24     90.0\n",
      "26-28     96.0\n",
      "28-30    100.0\n",
      "Name: PPG_Class, dtype: float64\n"
     ]
    }
   ],
   "source": [
    "print(\"Cummulative percent Frerquency:\", \"\\n\")\n",
    "print((nba[\"PPG_Class\"].value_counts(normalize=True).sort_index().cumsum())*100)"
   ]
  },
  {
   "cell_type": "markdown",
   "id": "12f20963",
   "metadata": {},
   "source": [
    "#### D. Develop a histogram for the average number of points scored per game"
   ]
  },
  {
   "cell_type": "code",
   "execution_count": 289,
   "id": "19fe0fd4",
   "metadata": {},
   "outputs": [
    {
     "name": "stdout",
     "output_type": "stream",
     "text": [
      "Method 1 Output:\n"
     ]
    },
    {
     "data": {
      "image/png": "[encoded data removed]",
      "text/plain": [
       "<Figure size 432x288 with 1 Axes>"
      ]
     },
     "metadata": {
      "needs_background": "light"
     },
     "output_type": "display_data"
    },
    {
     "name": "stdout",
     "output_type": "stream",
     "text": [
      "Method 2 Output:\n"
     ]
    },
    {
     "data": {
      "image/png": "[encoded data removed]",
      "text/plain": [
       "<Figure size 432x288 with 1 Axes>"
      ]
     },
     "metadata": {
      "needs_background": "light"
     },
     "output_type": "display_data"
    }
   ],
   "source": [
    "#lETS Show distribution  by manipluating barplot into hisogram(by increasing width of bars)\n",
    "ppg_bar = nba[\"PPG_Class\"].value_counts().plot(kind = \"bar\",width=0.97,facecolor = \"g\")\n",
    "ppg_bar.set_title(\"Histogram for PPG_Points\")\n",
    "plt.xlabel(\"PPG\")\n",
    "plt.ylabel(\"Frequency\")\n",
    "plt.yticks(list(range(1,21,2)))\n",
    "print(\"Method 1 Output:\")\n",
    "plt.show()\n",
    "\n",
    "#OR\n",
    "\n",
    "\n",
    "#\n",
    "#First lets just make a regular Histogram\n",
    "edges = list(range(10,31,2))\n",
    "ppg_hist = nba[\"PPG\"].sort_values(ascending= False).sort_values().plot(kind = \"hist\",bins = edges,edgecolor='b')\n",
    "ppg_hist.set_title(\"Histogram of Data\")\n",
    "plt.xlabel(\"Values\")    # X xis name\n",
    "plt.xticks(list(range(10,31,2)))    #points for x axis\n",
    "plt.yticks(list(range(1,20,2)))    #points for x axis\n",
    "plt.ylabel(\"Frequency\")  # Y axis name\n",
    "print(\"Method 2 Output:\")\n",
    "plt.show() #To see final plot\n",
    "\n"
   ]
  },
  {
   "cell_type": "markdown",
   "id": "2b527f61",
   "metadata": {},
   "source": [
    "#### E. Do the data appear to be skewed? Explain."
   ]
  },
  {
   "cell_type": "code",
   "execution_count": 290,
   "id": "0f928065",
   "metadata": {},
   "outputs": [],
   "source": [
    "#Yes, the data appeared to be aksewed at right."
   ]
  },
  {
   "cell_type": "markdown",
   "id": "4969e1d8",
   "metadata": {},
   "source": [
    "#### F. What percentage of the players averaged at least 20 points per game?"
   ]
  },
  {
   "cell_type": "code",
   "execution_count": 304,
   "id": "5236985f",
   "metadata": {},
   "outputs": [
    {
     "name": "stdout",
     "output_type": "stream",
     "text": [
      "False    0.78\n",
      "True     0.22\n",
      "Name: PPG, dtype: float64\n",
      "Answer is 22 %\n"
     ]
    }
   ],
   "source": [
    "print((nba[\"PPG\"]>20).value_counts()/nba.shape[0])\n",
    "\n",
    "print(\"Answer is 22 %\")"
   ]
  },
  {
   "cell_type": "markdown",
   "id": "c008e284",
   "metadata": {},
   "source": [
    "___________________________________________________________________________________________________________________"
   ]
  },
  {
   "cell_type": "markdown",
   "id": "5c4743a8",
   "metadata": {},
   "source": [
    "## 4. Revenue of World’s Most Valuable Brands"
   ]
  },
  {
   "cell_type": "markdown",
   "id": "80914196",
   "metadata": {},
   "source": [
    "Each year Forbes ranks the world’s most\n",
    "valuable brands. A portion of the data for 82 of the brands in the 2013 Forbes list is\n",
    "excel data (Forbes website). The data set includes the following variables:\n",
    "<br>\n",
    "\n",
    "Prepare a crosstabulation of the data on Industry (rows) and Brand Value (billions). Use\n",
    "classes of 0–10, 10–20, 20–30, 30–40, 40–50, and 50–60 for Brand Value (billions).\n",
    "\n"
   ]
  },
  {
   "cell_type": "code",
   "execution_count": 429,
   "id": "f2ef1f83",
   "metadata": {},
   "outputs": [
    {
     "data": {
      "text/html": [
       "<div>\n",
       "<style scoped>\n",
       "    .dataframe tbody tr th:only-of-type {\n",
       "        vertical-align: middle;\n",
       "    }\n",
       "\n",
       "    .dataframe tbody tr th {\n",
       "        vertical-align: top;\n",
       "    }\n",
       "\n",
       "    .dataframe thead th {\n",
       "        text-align: right;\n",
       "    }\n",
       "</style>\n",
       "<table border=\"1\" class=\"dataframe\">\n",
       "  <thead>\n",
       "    <tr style=\"text-align: right;\">\n",
       "      <th></th>\n",
       "      <th>Brand</th>\n",
       "      <th>Industry</th>\n",
       "      <th>Brand Value ($ billions)</th>\n",
       "      <th>1-Yr Value Change (%)</th>\n",
       "      <th>Brand Revenue ($ billions)</th>\n",
       "    </tr>\n",
       "  </thead>\n",
       "  <tbody>\n",
       "    <tr>\n",
       "      <th>0</th>\n",
       "      <td>Accenture</td>\n",
       "      <td>Other</td>\n",
       "      <td>9.7</td>\n",
       "      <td>10</td>\n",
       "      <td>30.4</td>\n",
       "    </tr>\n",
       "    <tr>\n",
       "      <th>1</th>\n",
       "      <td>Adidas</td>\n",
       "      <td>Other</td>\n",
       "      <td>8.4</td>\n",
       "      <td>23</td>\n",
       "      <td>14.5</td>\n",
       "    </tr>\n",
       "    <tr>\n",
       "      <th>2</th>\n",
       "      <td>Allianz</td>\n",
       "      <td>Financial Services</td>\n",
       "      <td>6.9</td>\n",
       "      <td>5</td>\n",
       "      <td>130.8</td>\n",
       "    </tr>\n",
       "    <tr>\n",
       "      <th>3</th>\n",
       "      <td>Amazon.Com</td>\n",
       "      <td>Technology</td>\n",
       "      <td>14.7</td>\n",
       "      <td>44</td>\n",
       "      <td>60.6</td>\n",
       "    </tr>\n",
       "    <tr>\n",
       "      <th>4</th>\n",
       "      <td>American Express</td>\n",
       "      <td>Financial Services</td>\n",
       "      <td>18.0</td>\n",
       "      <td>5</td>\n",
       "      <td>33.8</td>\n",
       "    </tr>\n",
       "  </tbody>\n",
       "</table>\n",
       "</div>"
      ],
      "text/plain": [
       "              Brand           Industry   Brand Value ($ billions)  \\\n",
       "0         Accenture               Other                       9.7   \n",
       "1            Adidas               Other                       8.4   \n",
       "2           Allianz  Financial Services                       6.9   \n",
       "3        Amazon.Com          Technology                      14.7   \n",
       "4  American Express  Financial Services                      18.0   \n",
       "\n",
       "   1-Yr Value Change (%)  Brand Revenue ($ billions)  \n",
       "0                     10                        30.4  \n",
       "1                     23                        14.5  \n",
       "2                      5                       130.8  \n",
       "3                     44                        60.6  \n",
       "4                      5                        33.8  "
      ]
     },
     "execution_count": 429,
     "metadata": {},
     "output_type": "execute_result"
    }
   ],
   "source": [
    "brand = pd.read_excel(\"BrandValue.xlsx\")\n",
    "brand.head()"
   ]
  },
  {
   "cell_type": "markdown",
   "id": "dc4dbab2",
   "metadata": {},
   "source": [
    "#### Prepare a crosstabulation of the data on Industry (rows) and Brand Revenue"
   ]
  },
  {
   "cell_type": "code",
   "execution_count": 571,
   "id": "a190fb4c",
   "metadata": {},
   "outputs": [
    {
     "data": {
      "text/html": [
       "<div>\n",
       "<style scoped>\n",
       "    .dataframe tbody tr th:only-of-type {\n",
       "        vertical-align: middle;\n",
       "    }\n",
       "\n",
       "    .dataframe tbody tr th {\n",
       "        vertical-align: top;\n",
       "    }\n",
       "\n",
       "    .dataframe thead th {\n",
       "        text-align: right;\n",
       "    }\n",
       "</style>\n",
       "<table border=\"1\" class=\"dataframe\">\n",
       "  <thead>\n",
       "    <tr style=\"text-align: right;\">\n",
       "      <th>cl_bv</th>\n",
       "      <th>0-10</th>\n",
       "      <th>10-20</th>\n",
       "      <th>20-30</th>\n",
       "      <th>30-40</th>\n",
       "      <th>40-50</th>\n",
       "      <th>50-60</th>\n",
       "    </tr>\n",
       "    <tr>\n",
       "      <th>Industry</th>\n",
       "      <th></th>\n",
       "      <th></th>\n",
       "      <th></th>\n",
       "      <th></th>\n",
       "      <th></th>\n",
       "      <th></th>\n",
       "    </tr>\n",
       "  </thead>\n",
       "  <tbody>\n",
       "    <tr>\n",
       "      <th>Automotive &amp; Luxury</th>\n",
       "      <td>10</td>\n",
       "      <td>4</td>\n",
       "      <td>1</td>\n",
       "      <td>0</td>\n",
       "      <td>0</td>\n",
       "      <td>0</td>\n",
       "    </tr>\n",
       "    <tr>\n",
       "      <th>Consumer Packaged Goods</th>\n",
       "      <td>7</td>\n",
       "      <td>5</td>\n",
       "      <td>0</td>\n",
       "      <td>0</td>\n",
       "      <td>0</td>\n",
       "      <td>0</td>\n",
       "    </tr>\n",
       "    <tr>\n",
       "      <th>Financial Services</th>\n",
       "      <td>11</td>\n",
       "      <td>3</td>\n",
       "      <td>0</td>\n",
       "      <td>0</td>\n",
       "      <td>0</td>\n",
       "      <td>0</td>\n",
       "    </tr>\n",
       "    <tr>\n",
       "      <th>Other</th>\n",
       "      <td>14</td>\n",
       "      <td>10</td>\n",
       "      <td>0</td>\n",
       "      <td>2</td>\n",
       "      <td>0</td>\n",
       "      <td>0</td>\n",
       "    </tr>\n",
       "    <tr>\n",
       "      <th>Technology</th>\n",
       "      <td>7</td>\n",
       "      <td>4</td>\n",
       "      <td>0</td>\n",
       "      <td>1</td>\n",
       "      <td>1</td>\n",
       "      <td>2</td>\n",
       "    </tr>\n",
       "  </tbody>\n",
       "</table>\n",
       "</div>"
      ],
      "text/plain": [
       "cl_bv                    0-10  10-20  20-30  30-40  40-50  50-60\n",
       "Industry                                                        \n",
       "Automotive & Luxury        10      4      1      0      0      0\n",
       "Consumer Packaged Goods     7      5      0      0      0      0\n",
       "Financial Services         11      3      0      0      0      0\n",
       "Other                      14     10      0      2      0      0\n",
       "Technology                  7      4      0      1      1      2"
      ]
     },
     "execution_count": 571,
     "metadata": {},
     "output_type": "execute_result"
    }
   ],
   "source": [
    "#Lets first add class intervals for Brand_Value column in our data frame\n",
    "z = []\n",
    "for i in brand[\"Brand Value ($ billions)\"]:\n",
    "    if 0<=i<10:\n",
    "        z.append(\"0-10\")\n",
    "    elif 10<=i<20:\n",
    "        z.append(\"10-20\")\n",
    "    elif 20<=i<30:\n",
    "        z.append(\"20-30\") \n",
    "    elif 30<=i<40:\n",
    "        z.append(\"30-40\") \n",
    "    elif 40<=i<50:\n",
    "        z.append(\"40-50\")\n",
    "    elif 50<=i<60:\n",
    "        z.append(\"50-60\") \n",
    "    else:\n",
    "        pass\n",
    "\n",
    "        \n",
    "brand[\"cl_bv\"] = z #Ass class_of_brandValue into data frame\n",
    "\n",
    "#Crosstab Industry vs Brand Value(shows counts)\n",
    "pd.crosstab(brand[\"Industry \"],brand[\"cl_bv\"])  #Simple_crosstab\n",
    "pd.crosstab(brand[\"Industry \"],brand[\"cl_bv\"], margins=True)  #Marginal_crosstab\n",
    "pd.crosstab(brand[\"Industry \"],brand[\"cl_bv\"], normalize=True)  #MFrequency_crosstab\n",
    "pd.crosstab(brand[\"Industry \"],brand[\"cl_bv\"], normalize=\"index\")  #row_percentage_crosstab\n",
    "pd.crosstab(brand[\"Industry \"],brand[\"cl_bv\"], normalize=\"columns\")  #column_percentage_crosstab\n",
    "\n",
    "pd.crosstab(brand[\"Industry \"],brand[\"cl_bv\"]) "
   ]
  },
  {
   "cell_type": "markdown",
   "id": "43d3070d",
   "metadata": {},
   "source": [
    "__________________________________________________________________________________________________________________"
   ]
  },
  {
   "cell_type": "markdown",
   "id": "b5637a72",
   "metadata": {},
   "source": [
    "## 5. Low Temperatures and Snowfall"
   ]
  },
  {
   "cell_type": "markdown",
   "id": "7be783ed",
   "metadata": {},
   "source": [
    "The file Snow contains temperature and snowfall\n",
    "data for 51 major U.S. cities over 30 years. For example, the average low temperature\n",
    "for Columbus, Ohio, is 44 degrees and the average annual snowfall is 27.5 inches.\n",
    "<br>\n",
    "\n",
    "a. Construct a scatter diagram with the average annual low temperature on the horizontal\n",
    "axis and the average annual snowfall on the vertical axis.\n",
    "<br>\n",
    "b. Does there appear to be any relationship between these two variables?\n",
    "<br>\n",
    "c. Based on the scatter diagram, comment on any data points that seem to be unusual."
   ]
  },
  {
   "cell_type": "code",
   "execution_count": 4,
   "id": "d9a767d5",
   "metadata": {},
   "outputs": [
    {
     "data": {
      "text/html": [
       "<div>\n",
       "<style scoped>\n",
       "    .dataframe tbody tr th:only-of-type {\n",
       "        vertical-align: middle;\n",
       "    }\n",
       "\n",
       "    .dataframe tbody tr th {\n",
       "        vertical-align: top;\n",
       "    }\n",
       "\n",
       "    .dataframe thead th {\n",
       "        text-align: right;\n",
       "    }\n",
       "</style>\n",
       "<table border=\"1\" class=\"dataframe\">\n",
       "  <thead>\n",
       "    <tr style=\"text-align: right;\">\n",
       "      <th></th>\n",
       "      <th>City</th>\n",
       "      <th>State</th>\n",
       "      <th>Average Low temp</th>\n",
       "      <th>Average Snowfall</th>\n",
       "    </tr>\n",
       "  </thead>\n",
       "  <tbody>\n",
       "    <tr>\n",
       "      <th>0</th>\n",
       "      <td>Atlanta</td>\n",
       "      <td>Georgia</td>\n",
       "      <td>53</td>\n",
       "      <td>2.9</td>\n",
       "    </tr>\n",
       "    <tr>\n",
       "      <th>1</th>\n",
       "      <td>Austin</td>\n",
       "      <td>Texas</td>\n",
       "      <td>59</td>\n",
       "      <td>0.6</td>\n",
       "    </tr>\n",
       "    <tr>\n",
       "      <th>2</th>\n",
       "      <td>Baltimore</td>\n",
       "      <td>Maryland</td>\n",
       "      <td>45</td>\n",
       "      <td>20.2</td>\n",
       "    </tr>\n",
       "    <tr>\n",
       "      <th>3</th>\n",
       "      <td>Birmingham</td>\n",
       "      <td>Alabama</td>\n",
       "      <td>53</td>\n",
       "      <td>1.6</td>\n",
       "    </tr>\n",
       "    <tr>\n",
       "      <th>4</th>\n",
       "      <td>Boston</td>\n",
       "      <td>Massachusetts</td>\n",
       "      <td>44</td>\n",
       "      <td>43.8</td>\n",
       "    </tr>\n",
       "  </tbody>\n",
       "</table>\n",
       "</div>"
      ],
      "text/plain": [
       "        City           State  Average Low temp  Average Snowfall\n",
       "0     Atlanta        Georgia                53               2.9\n",
       "1      Austin          Texas                59               0.6\n",
       "2   Baltimore       Maryland                45              20.2\n",
       "3  Birmingham        Alabama                53               1.6\n",
       "4      Boston  Massachusetts                44              43.8"
      ]
     },
     "execution_count": 4,
     "metadata": {},
     "output_type": "execute_result"
    }
   ],
   "source": [
    "snow = pd.read_excel(\"snow.xlsx\")\n",
    "snow.head()"
   ]
  },
  {
   "cell_type": "markdown",
   "id": "0220a061",
   "metadata": {},
   "source": [
    "#### A. Construct a scatter diagram with the average annual low temperature on the horizontal axis and the average annual snowfall on the vertical axis."
   ]
  },
  {
   "cell_type": "code",
   "execution_count": 17,
   "id": "0d30cca3",
   "metadata": {},
   "outputs": [
    {
     "data": {
      "image/png": "[encoded data removed]",
      "text/plain": [
       "<Figure size 432x288 with 1 Axes>"
      ]
     },
     "metadata": {
      "needs_background": "light"
     },
     "output_type": "display_data"
    }
   ],
   "source": [
    "sns.scatterplot(data=snow,x=\"Average Low temp\", y=\"Average Snowfall\")\n",
    "plt.show()"
   ]
  },
  {
   "cell_type": "markdown",
   "id": "6dbefff5",
   "metadata": {},
   "source": [
    "#### B. Does there appear to be any relationship between these two variables?"
   ]
  },
  {
   "cell_type": "code",
   "execution_count": 59,
   "id": "5b297c02",
   "metadata": {},
   "outputs": [],
   "source": [
    "#Yes The relation between appear to be Negative in scatter plot"
   ]
  },
  {
   "cell_type": "markdown",
   "id": "39789f03",
   "metadata": {},
   "source": [
    "#### C. Based on the scatter diagram, comment on any data points that seem to be unusual."
   ]
  },
  {
   "cell_type": "code",
   "execution_count": 60,
   "id": "2536db99",
   "metadata": {},
   "outputs": [],
   "source": [
    "#Surprising At 40 Temp values, We see more snow that at 35. \n",
    "#The reason is Two cities have an average snowfall of nearly 100inches: Buffalo, New York and Rochester New York\n",
    "#both are located near large lakes in NewYork"
   ]
  },
  {
   "cell_type": "markdown",
   "id": "a5aabc0a",
   "metadata": {},
   "source": [
    "________________________________________________________________________________________________________________________"
   ]
  },
  {
   "cell_type": "markdown",
   "id": "4b972d2a",
   "metadata": {},
   "source": [
    "## 6. Smartphone Ownership"
   ]
  },
  {
   "cell_type": "markdown",
   "id": "1401bf71",
   "metadata": {},
   "source": [
    "Consider the following survey results that show smartphone ownership by age.\n",
    "<br>\n",
    "\n",
    "a. Construct a stacked bar chart to display the above survey data on type of mobile\n",
    "phone ownership. Use age category as the variable on the horizontal axis.\n",
    "<br>\n",
    "b. Comment on the relationship between age and smartphone ownership.\n",
    "<br>\n",
    "c. How would you expect the results of this survey to be different if conducted\n",
    "10 years from now?"
   ]
  },
  {
   "cell_type": "code",
   "execution_count": 63,
   "id": "7239ef8f",
   "metadata": {},
   "outputs": [
    {
     "data": {
      "text/html": [
       "<div>\n",
       "<style scoped>\n",
       "    .dataframe tbody tr th:only-of-type {\n",
       "        vertical-align: middle;\n",
       "    }\n",
       "\n",
       "    .dataframe tbody tr th {\n",
       "        vertical-align: top;\n",
       "    }\n",
       "\n",
       "    .dataframe thead th {\n",
       "        text-align: right;\n",
       "    }\n",
       "</style>\n",
       "<table border=\"1\" class=\"dataframe\">\n",
       "  <thead>\n",
       "    <tr style=\"text-align: right;\">\n",
       "      <th></th>\n",
       "      <th>Age</th>\n",
       "      <th>Smartphone</th>\n",
       "      <th>Other Cell</th>\n",
       "      <th>No Cell Phone</th>\n",
       "    </tr>\n",
       "  </thead>\n",
       "  <tbody>\n",
       "    <tr>\n",
       "      <th>0</th>\n",
       "      <td>18-24</td>\n",
       "      <td>0.49</td>\n",
       "      <td>0.46</td>\n",
       "      <td>0.05</td>\n",
       "    </tr>\n",
       "    <tr>\n",
       "      <th>1</th>\n",
       "      <td>25-34</td>\n",
       "      <td>0.58</td>\n",
       "      <td>0.35</td>\n",
       "      <td>0.07</td>\n",
       "    </tr>\n",
       "    <tr>\n",
       "      <th>2</th>\n",
       "      <td>35-44</td>\n",
       "      <td>0.44</td>\n",
       "      <td>0.45</td>\n",
       "      <td>0.11</td>\n",
       "    </tr>\n",
       "    <tr>\n",
       "      <th>3</th>\n",
       "      <td>45-54</td>\n",
       "      <td>0.28</td>\n",
       "      <td>0.58</td>\n",
       "      <td>0.14</td>\n",
       "    </tr>\n",
       "    <tr>\n",
       "      <th>4</th>\n",
       "      <td>55-64</td>\n",
       "      <td>0.22</td>\n",
       "      <td>0.59</td>\n",
       "      <td>0.19</td>\n",
       "    </tr>\n",
       "  </tbody>\n",
       "</table>\n",
       "</div>"
      ],
      "text/plain": [
       "     Age  Smartphone  Other Cell  No Cell Phone\n",
       "0  18-24        0.49        0.46           0.05\n",
       "1  25-34        0.58        0.35           0.07\n",
       "2  35-44        0.44        0.45           0.11\n",
       "3  45-54        0.28        0.58           0.14\n",
       "4  55-64        0.22        0.59           0.19"
      ]
     },
     "execution_count": 63,
     "metadata": {},
     "output_type": "execute_result"
    }
   ],
   "source": [
    "sp = pd.read_excel(\"SmartPhones.xlsx\")\n",
    "sp = sp.drop([\"Unnamed: 4\",\"Unnamed: 5\",\"Unnamed: 6\",\"Unnamed: 7\",\"Unnamed: 8\",\"Unnamed: 9\",\"Unnamed: 10\",\"Unnamed: 11\",\"Unnamed: 12\",\"Unnamed: 13\"], axis=1)\n",
    "sp.head()"
   ]
  },
  {
   "cell_type": "markdown",
   "id": "3d2f0d1a",
   "metadata": {},
   "source": [
    "#### A. Construct a stacked bar chart to display the above survey data on type of mobile phone ownership. Use age category as the variable on the horizontal axis."
   ]
  },
  {
   "cell_type": "code",
   "execution_count": 50,
   "id": "5e292762",
   "metadata": {},
   "outputs": [
    {
     "data": {
      "image/png": "[encoded data removed]",
      "text/plain": [
       "<Figure size 432x288 with 1 Axes>"
      ]
     },
     "metadata": {
      "needs_background": "light"
     },
     "output_type": "display_data"
    },
    {
     "data": {
      "image/png": "[encoded data removed]",
      "text/plain": [
       "<Figure size 432x288 with 1 Axes>"
      ]
     },
     "metadata": {
      "needs_background": "light"
     },
     "output_type": "display_data"
    }
   ],
   "source": [
    "sp.set_index('Age').plot(kind='bar', stacked = True,color=['steelblue', 'red',\"g\"],width=0.87) #Stacked_Bar_Chart\n",
    "sp.set_index('Age').plot(kind='bar' ,color=['steelblue', 'red',\"g\"],width=0.87) #SidebySide_Bar_Chart\n",
    "plt.show()"
   ]
  },
  {
   "cell_type": "markdown",
   "id": "2d3123a8",
   "metadata": {},
   "source": [
    "#### B. Comment on the relationship between age and smartphone ownership."
   ]
  },
  {
   "cell_type": "code",
   "execution_count": 51,
   "id": "ea6a4710",
   "metadata": {},
   "outputs": [],
   "source": [
    "#We can observe that as the age goesup, the use of smartphones is is declining."
   ]
  },
  {
   "cell_type": "markdown",
   "id": "335024a0",
   "metadata": {},
   "source": [
    "#### C. How would you expect the results of this survey to be different if conducted 10 years from now?"
   ]
  },
  {
   "cell_type": "code",
   "execution_count": 58,
   "id": "d0aa9a5d",
   "metadata": {},
   "outputs": [],
   "source": [
    "#Unless a newe device replaces the smartphone,we would expect smartphone ownership would become less sensitive to age \n",
    "#this would be true because current users will become older and the device will be seen as a necessity than a luxury."
   ]
  },
  {
   "cell_type": "markdown",
   "id": "e1f7554b",
   "metadata": {},
   "source": [
    "_____________________________________________________________________________________________________________________"
   ]
  }
 ],
 "metadata": {
  "kernelspec": {
   "display_name": "Python 3",
   "language": "python",
   "name": "python3"
  },
  "language_info": {
   "codemirror_mode": {
    "name": "ipython",
    "version": 3
   },
   "file_extension": ".py",
   "mimetype": "text/x-python",
   "name": "python",
   "nbconvert_exporter": "python",
   "pygments_lexer": "ipython3",
   "version": "3.8.8"
  }
 },
 "nbformat": 4,
 "nbformat_minor": 5
}
