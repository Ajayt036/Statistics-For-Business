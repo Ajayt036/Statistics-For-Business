{
 "cells": [
  {
   "cell_type": "markdown",
   "id": "80e0f66a",
   "metadata": {},
   "source": [
    "## My Notes"
   ]
  },
  {
   "cell_type": "markdown",
   "id": "3e0d6b49",
   "metadata": {},
   "source": [
    "### chapter 2\n",
    "\n",
    "1. Histogram - For frequency distribution of values in quant. Column ( mostly used to show value in bins). Barchart = For distribution of values in categorical Column (for abs. Number of values). Pie chart = For relative frequency distribution. ( mostly used for Categorical column)"
   ]
  },
  {
   "cell_type": "code",
   "execution_count": null,
   "id": "dfcc15b3",
   "metadata": {},
   "outputs": [],
   "source": []
  }
 ],
 "metadata": {
  "kernelspec": {
   "display_name": "Python 3",
   "language": "python",
   "name": "python3"
  },
  "language_info": {
   "codemirror_mode": {
    "name": "ipython",
    "version": 3
   },
   "file_extension": ".py",
   "mimetype": "text/x-python",
   "name": "python",
   "nbconvert_exporter": "python",
   "pygments_lexer": "ipython3",
   "version": "3.8.8"
  }
 },
 "nbformat": 4,
 "nbformat_minor": 5
}
