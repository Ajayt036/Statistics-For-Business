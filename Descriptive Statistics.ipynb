{
 "cells": [
  {
   "cell_type": "markdown",
   "id": "d89c9bd1",
   "metadata": {},
   "source": [
    "#### Import Required Libraries"
   ]
  },
  {
   "cell_type": "code",
   "execution_count": 49,
   "id": "8db4041d",
   "metadata": {},
   "outputs": [],
   "source": [
    "import pandas as pd\n",
    "import numpy as np\n",
    "import matplotlib.pyplot as plt\n",
    "import scipy.stats as stats"
   ]
  },
  {
   "cell_type": "markdown",
   "id": "5faaae68",
   "metadata": {},
   "source": [
    "## 1. Unemployment Rates by State."
   ]
  },
  {
   "cell_type": "markdown",
   "id": "ce94c81a",
   "metadata": {},
   "source": [
    "The U.S. Bureau of Labor Statistics collects\n",
    "data on unemployment rates in each state. The data contained in the file\n",
    "UnemploymentRates show the unemployment rate for every state and the District\n",
    "of Columbia over two consecutive years. \n",
    "- To compare unemployment rates for\n",
    "the previous year with unemployment rates for the current year, compute the first\n",
    "quartile, the median, and the third quartile for the previous year unemployment data\n",
    "and the current year unemployment data. \n",
    "- What do these statistics suggest about the\n",
    "change in unemployment rates across the states over these two years?"
   ]
  },
  {
   "cell_type": "code",
   "execution_count": 210,
   "id": "292b011f",
   "metadata": {},
   "outputs": [
    {
     "data": {
      "text/html": [
       "<div>\n",
       "<style scoped>\n",
       "    .dataframe tbody tr th:only-of-type {\n",
       "        vertical-align: middle;\n",
       "    }\n",
       "\n",
       "    .dataframe tbody tr th {\n",
       "        vertical-align: top;\n",
       "    }\n",
       "\n",
       "    .dataframe thead th {\n",
       "        text-align: right;\n",
       "    }\n",
       "</style>\n",
       "<table border=\"1\" class=\"dataframe\">\n",
       "  <thead>\n",
       "    <tr style=\"text-align: right;\">\n",
       "      <th></th>\n",
       "      <th>State</th>\n",
       "      <th>Uneployment Rate (Previous Year)</th>\n",
       "      <th>Uneployment Rate (Current Year)</th>\n",
       "    </tr>\n",
       "  </thead>\n",
       "  <tbody>\n",
       "    <tr>\n",
       "      <th>0</th>\n",
       "      <td>Alabama</td>\n",
       "      <td>9.3</td>\n",
       "      <td>7.3</td>\n",
       "    </tr>\n",
       "    <tr>\n",
       "      <th>1</th>\n",
       "      <td>Alaska</td>\n",
       "      <td>7.6</td>\n",
       "      <td>7.0</td>\n",
       "    </tr>\n",
       "    <tr>\n",
       "      <th>2</th>\n",
       "      <td>Arizona</td>\n",
       "      <td>9.6</td>\n",
       "      <td>8.6</td>\n",
       "    </tr>\n",
       "    <tr>\n",
       "      <th>3</th>\n",
       "      <td>Arkansas</td>\n",
       "      <td>8.0</td>\n",
       "      <td>7.4</td>\n",
       "    </tr>\n",
       "    <tr>\n",
       "      <th>4</th>\n",
       "      <td>California</td>\n",
       "      <td>11.9</td>\n",
       "      <td>11.0</td>\n",
       "    </tr>\n",
       "  </tbody>\n",
       "</table>\n",
       "</div>"
      ],
      "text/plain": [
       "        State  Uneployment Rate (Previous Year)  \\\n",
       "0     Alabama                               9.3   \n",
       "1      Alaska                               7.6   \n",
       "2     Arizona                               9.6   \n",
       "3    Arkansas                               8.0   \n",
       "4  California                              11.9   \n",
       "\n",
       "   Uneployment Rate (Current Year)  \n",
       "0                              7.3  \n",
       "1                              7.0  \n",
       "2                              8.6  \n",
       "3                              7.4  \n",
       "4                             11.0  "
      ]
     },
     "execution_count": 210,
     "metadata": {},
     "output_type": "execute_result"
    }
   ],
   "source": [
    "ur = pd.read_excel(\"UnemploymentRates.xlsx\")\n",
    "ur.head()"
   ]
  },
  {
   "cell_type": "code",
   "execution_count": 223,
   "id": "9b07706c",
   "metadata": {},
   "outputs": [
    {
     "data": {
      "image/png": "[encoded data removed]",
      "text/plain": [
       "<Figure size 432x288 with 1 Axes>"
      ]
     },
     "metadata": {
      "needs_background": "light"
     },
     "output_type": "display_data"
    }
   ],
   "source": [
    "#Before Solving the problem, Lets viualize our data\n",
    "# Lets create a table of top 10 Sates with Highest unemployment of current and last year.\n",
    "top_10 = ur.sort_values([\"Uneployment Rate (Previous Year)\",\"Uneployment Rate (Current Year)\"]\n",
    "                        , ascending=False ).head(10)\n",
    "\n",
    "#Now lets make a bart chart of currnet enplyement\n",
    "top_10.plot(kind = \"bar\",x=\"State\", y = \"Uneployment Rate (Current Year)\") #Bar_Chart\n",
    "plt.show()\n"
   ]
  },
  {
   "cell_type": "code",
   "execution_count": 241,
   "id": "d00a6df1",
   "metadata": {},
   "outputs": [
    {
     "data": {
      "image/png": "[encoded data removed]",
      "text/plain": [
       "<Figure size 432x288 with 1 Axes>"
      ]
     },
     "metadata": {
      "needs_background": "light"
     },
     "output_type": "display_data"
    }
   ],
   "source": [
    "# Lets create a tabletop 10 Sates with High unemployment of this and last year and put it on side by side bar chart\n",
    "\n",
    "top_10 = ur.sort_values([\"Uneployment Rate (Previous Year)\",\"Uneployment Rate (Current Year)\"]\n",
    "                        , ascending=False ).head(10)\n",
    "top_10\n",
    "top_10.plot(kind = \"bar\",x=\"State\")\n",
    "plt.show()"
   ]
  },
  {
   "cell_type": "markdown",
   "id": "d6d6ea48",
   "metadata": {},
   "source": [
    "#### A. To compare unemployment rates for the previous year with unemployment rates for the current year, compute the first quartile, the median, and the third quartile for the previous year unemployment data and the current year unemployment data."
   ]
  },
  {
   "cell_type": "code",
   "execution_count": 238,
   "id": "064a8ccc",
   "metadata": {},
   "outputs": [
    {
     "name": "stdout",
     "output_type": "stream",
     "text": [
      "0.25     6.875\n",
      "0.50     8.000\n",
      "0.75     9.400\n",
      "1.00    13.600\n",
      "Name: Uneployment Rate (Previous Year), dtype: float64\n",
      "0.25     6.250\n",
      "0.50     7.350\n",
      "0.75     8.575\n",
      "1.00    12.000\n",
      "Name: Uneployment Rate (Current Year), dtype: float64 \n",
      "\n"
     ]
    },
    {
     "data": {
      "image/png": "[encoded data removed]",
      "text/plain": [
       "<Figure size 432x288 with 1 Axes>"
      ]
     },
     "metadata": {
      "needs_background": "light"
     },
     "output_type": "display_data"
    }
   ],
   "source": [
    "#To compare quaartiles we can either see manual values using quantile or make boxplots\n",
    "\n",
    "#Uisng Quantile\n",
    "print(ur[\"Uneployment Rate (Previous Year)\"].quantile([0.25,0.50,0.75,1]))\n",
    "print(ur[\"Uneployment Rate (Current Year)\"].quantile([0.25,0.50,0.75,1]),\"\\n\")\n",
    "\n",
    "#Uisng Boxplt\n",
    "ur.boxplot()\n",
    "plt.show()"
   ]
  },
  {
   "cell_type": "markdown",
   "id": "09175b98",
   "metadata": {},
   "source": [
    "#### B. What do these statistics suggest about the change in unemployment rates across the states over these two years?"
   ]
  },
  {
   "cell_type": "code",
   "execution_count": 242,
   "id": "02481879",
   "metadata": {},
   "outputs": [],
   "source": [
    "#From the side by side chart and boxplot \n",
    "#we can see that prevoius year had more unemplyment rate than current year.\n"
   ]
  },
  {
   "cell_type": "markdown",
   "id": "7770c02c",
   "metadata": {},
   "source": [
    "____________________________________________________________________________________________________________________"
   ]
  },
  {
   "cell_type": "markdown",
   "id": "e7c857a9",
   "metadata": {},
   "source": [
    "## 2. Advertising Spend by Companies"
   ]
  },
  {
   "cell_type": "markdown",
   "id": "aefe7e20",
   "metadata": {},
   "source": [
    "Advertising Age annually compiles a list of the\n",
    "100 companies that spend the most on advertising. Consumer-goods company Procter\n",
    "& Gamble has often topped the list, spending billions of dollars annually. Consider\n",
    "the data found in the file Advertising. It contains annual advertising expenditures for a\n",
    "sample of 20 companies in the automotive sector and 20 companies in the department\n",
    "store sector.\n",
    "<br>\n",
    "\n",
    "a. What is the mean advertising spent for each sector?\n",
    "<br>\n",
    "b. What is the standard deviation for each sector?\n",
    "<br>\n",
    "c. What is the range of advertising spent for each sector?\n",
    "<br>\n",
    "d. What is the interquartile range for each sector?\n",
    "<br>\n",
    "e. Based on this sample and your answers to parts (a) to (d), comment on any differences\n",
    "in the advertising spending in the automotive companies versus the department\n",
    "store companies."
   ]
  },
  {
   "cell_type": "code",
   "execution_count": 6,
   "id": "a0ad3bde",
   "metadata": {},
   "outputs": [
    {
     "name": "stdout",
     "output_type": "stream",
     "text": [
      "(20, 2)\n"
     ]
    },
    {
     "data": {
      "text/html": [
       "<div>\n",
       "<style scoped>\n",
       "    .dataframe tbody tr th:only-of-type {\n",
       "        vertical-align: middle;\n",
       "    }\n",
       "\n",
       "    .dataframe tbody tr th {\n",
       "        vertical-align: top;\n",
       "    }\n",
       "\n",
       "    .dataframe thead th {\n",
       "        text-align: right;\n",
       "    }\n",
       "</style>\n",
       "<table border=\"1\" class=\"dataframe\">\n",
       "  <thead>\n",
       "    <tr style=\"text-align: right;\">\n",
       "      <th></th>\n",
       "      <th>Automotive</th>\n",
       "      <th>Department Store</th>\n",
       "    </tr>\n",
       "  </thead>\n",
       "  <tbody>\n",
       "    <tr>\n",
       "      <th>0</th>\n",
       "      <td>2366</td>\n",
       "      <td>448</td>\n",
       "    </tr>\n",
       "    <tr>\n",
       "      <th>1</th>\n",
       "      <td>1573</td>\n",
       "      <td>472</td>\n",
       "    </tr>\n",
       "    <tr>\n",
       "      <th>2</th>\n",
       "      <td>1813</td>\n",
       "      <td>622</td>\n",
       "    </tr>\n",
       "    <tr>\n",
       "      <th>3</th>\n",
       "      <td>2058</td>\n",
       "      <td>746</td>\n",
       "    </tr>\n",
       "    <tr>\n",
       "      <th>4</th>\n",
       "      <td>2254</td>\n",
       "      <td>629</td>\n",
       "    </tr>\n",
       "  </tbody>\n",
       "</table>\n",
       "</div>"
      ],
      "text/plain": [
       "   Automotive  Department Store\n",
       "0        2366               448\n",
       "1        1573               472\n",
       "2        1813               622\n",
       "3        2058               746\n",
       "4        2254               629"
      ]
     },
     "execution_count": 6,
     "metadata": {},
     "output_type": "execute_result"
    }
   ],
   "source": [
    "adv = pd.read_excel(\"Advertising.xlsx\")\n",
    "print(adv.shape)\n",
    "adv.head()"
   ]
  },
  {
   "cell_type": "markdown",
   "id": "9f3bee16",
   "metadata": {},
   "source": [
    "#### A. What is the mean advertising spent for each sector?"
   ]
  },
  {
   "cell_type": "code",
   "execution_count": 7,
   "id": "94ec6e0c",
   "metadata": {},
   "outputs": [
    {
     "data": {
      "text/plain": [
       "Automotive          1960.05\n",
       "Department Store     692.85\n",
       "dtype: float64"
      ]
     },
     "execution_count": 7,
     "metadata": {},
     "output_type": "execute_result"
    }
   ],
   "source": [
    "adv.mean()\n",
    "#We can onserve that Automotive companies spend more than Deprtment store sector"
   ]
  },
  {
   "cell_type": "markdown",
   "id": "1c9511c3",
   "metadata": {},
   "source": [
    "#### B. What is the standard deviation for each sector?"
   ]
  },
  {
   "cell_type": "code",
   "execution_count": 10,
   "id": "52f92b27",
   "metadata": {},
   "outputs": [
    {
     "data": {
      "text/plain": [
       "Automotive          481.648537\n",
       "Department Store    155.055941\n",
       "dtype: float64"
      ]
     },
     "execution_count": 10,
     "metadata": {},
     "output_type": "execute_result"
    }
   ],
   "source": [
    "adv.std()\n",
    "#We can see that standard deviation is more for automative section`\n",
    "#it means automative comnies's marketing varies alot amon each other comapred to departmemtal stores variation"
   ]
  },
  {
   "cell_type": "markdown",
   "id": "b1f365cd",
   "metadata": {},
   "source": [
    "#### C. What is the range of advertising spent for each sector?"
   ]
  },
  {
   "cell_type": "code",
   "execution_count": 16,
   "id": "5a6728a4",
   "metadata": {},
   "outputs": [
    {
     "name": "stdout",
     "output_type": "stream",
     "text": [
      "Automotive: 2303\n",
      "Automotive: 563\n"
     ]
    }
   ],
   "source": [
    "print(\"Automotive:\", adv[\"Automotive\"].max() - adv[\"Automotive\"].min())\n",
    "print(\"Automotive:\", adv[\"Department Store\"].max() - adv[\"Department Store\"].min())"
   ]
  },
  {
   "cell_type": "markdown",
   "id": "697639cd",
   "metadata": {},
   "source": [
    "#### D. What is the interquartile range for each sector?"
   ]
  },
  {
   "cell_type": "code",
   "execution_count": 17,
   "id": "b4bc30e2",
   "metadata": {},
   "outputs": [
    {
     "name": "stdout",
     "output_type": "stream",
     "text": [
      "Automotive: 496.5\n",
      "Automotive: 197.5\n"
     ]
    }
   ],
   "source": [
    "print(\"Automotive:\", adv[\"Automotive\"].quantile(0.75) - adv[\"Automotive\"].quantile(0.25))\n",
    "print(\"Automotive:\", adv[\"Department Store\"].quantile(0.75) - adv[\"Department Store\"].quantile(0.25))"
   ]
  },
  {
   "cell_type": "markdown",
   "id": "00324ad2",
   "metadata": {},
   "source": [
    "#### E. Based on this sample and your answers to parts (a) to (d), comment on any differences in the advertising spending in the automotive companies versus the department store companies."
   ]
  },
  {
   "cell_type": "code",
   "execution_count": 18,
   "id": "2a0d6e53",
   "metadata": {},
   "outputs": [],
   "source": [
    "#both a and d points toward hight money spent by Automotive stores.\n",
    "#A says autmotive stores spent big budget on advertising\n",
    "#D is the proves it by showing the bigger quartile range value."
   ]
  },
  {
   "cell_type": "markdown",
   "id": "5d933ec7",
   "metadata": {},
   "source": [
    "____________________________________________________________________________________________________________________"
   ]
  },
  {
   "cell_type": "code",
   "execution_count": null,
   "id": "d7910d47",
   "metadata": {},
   "outputs": [],
   "source": []
  },
  {
   "cell_type": "code",
   "execution_count": null,
   "id": "9f788e65",
   "metadata": {},
   "outputs": [],
   "source": []
  },
  {
   "cell_type": "code",
   "execution_count": null,
   "id": "ee8a230a",
   "metadata": {},
   "outputs": [],
   "source": []
  },
  {
   "cell_type": "code",
   "execution_count": 3,
   "id": "fdc7f132",
   "metadata": {},
   "outputs": [
    {
     "name": "stdout",
     "output_type": "stream",
     "text": [
      "(10, 7)\n"
     ]
    },
    {
     "data": {
      "text/html": [
       "<div>\n",
       "<style scoped>\n",
       "    .dataframe tbody tr th:only-of-type {\n",
       "        vertical-align: middle;\n",
       "    }\n",
       "\n",
       "    .dataframe tbody tr th {\n",
       "        vertical-align: top;\n",
       "    }\n",
       "\n",
       "    .dataframe thead th {\n",
       "        text-align: right;\n",
       "    }\n",
       "</style>\n",
       "<table border=\"1\" class=\"dataframe\">\n",
       "  <thead>\n",
       "    <tr style=\"text-align: right;\">\n",
       "      <th></th>\n",
       "      <th>Winning Team</th>\n",
       "      <th>Points</th>\n",
       "      <th>Unnamed: 2</th>\n",
       "      <th>Losing Team</th>\n",
       "      <th>Points.1</th>\n",
       "      <th>Unnamed: 5</th>\n",
       "      <th>Winning Margin</th>\n",
       "    </tr>\n",
       "  </thead>\n",
       "  <tbody>\n",
       "    <tr>\n",
       "      <th>0</th>\n",
       "      <td>Arizona</td>\n",
       "      <td>90</td>\n",
       "      <td>NaN</td>\n",
       "      <td>Oregon</td>\n",
       "      <td>66</td>\n",
       "      <td>NaN</td>\n",
       "      <td>24</td>\n",
       "    </tr>\n",
       "    <tr>\n",
       "      <th>1</th>\n",
       "      <td>Duke</td>\n",
       "      <td>85</td>\n",
       "      <td>NaN</td>\n",
       "      <td>Georgetown</td>\n",
       "      <td>66</td>\n",
       "      <td>NaN</td>\n",
       "      <td>19</td>\n",
       "    </tr>\n",
       "    <tr>\n",
       "      <th>2</th>\n",
       "      <td>Florida State</td>\n",
       "      <td>75</td>\n",
       "      <td>NaN</td>\n",
       "      <td>Wake Forrest</td>\n",
       "      <td>70</td>\n",
       "      <td>NaN</td>\n",
       "      <td>5</td>\n",
       "    </tr>\n",
       "    <tr>\n",
       "      <th>3</th>\n",
       "      <td>Kansas</td>\n",
       "      <td>78</td>\n",
       "      <td>NaN</td>\n",
       "      <td>Colorado</td>\n",
       "      <td>57</td>\n",
       "      <td>NaN</td>\n",
       "      <td>21</td>\n",
       "    </tr>\n",
       "    <tr>\n",
       "      <th>4</th>\n",
       "      <td>Kentucky</td>\n",
       "      <td>71</td>\n",
       "      <td>NaN</td>\n",
       "      <td>Notre Dame</td>\n",
       "      <td>63</td>\n",
       "      <td>NaN</td>\n",
       "      <td>8</td>\n",
       "    </tr>\n",
       "  </tbody>\n",
       "</table>\n",
       "</div>"
      ],
      "text/plain": [
       "    Winning Team  Points  Unnamed: 2   Losing Team  Points.1  Unnamed: 5  \\\n",
       "0        Arizona      90         NaN       Oregon         66         NaN   \n",
       "1          Duke       85         NaN    Georgetown        66         NaN   \n",
       "2  Florida State      75         NaN  Wake Forrest        70         NaN   \n",
       "3        Kansas       78         NaN      Colorado        57         NaN   \n",
       "4       Kentucky      71         NaN    Notre Dame        63         NaN   \n",
       "\n",
       "   Winning Margin  \n",
       "0              24  \n",
       "1              19  \n",
       "2               5  \n",
       "3              21  \n",
       "4               8  "
      ]
     },
     "execution_count": 3,
     "metadata": {},
     "output_type": "execute_result"
    }
   ],
   "source": [
    "ncaa = pd.read_excel(\"NCAA.xlsx\")\n",
    "print(ncaa.shape)\n",
    "ncaa.head()"
   ]
  },
  {
   "cell_type": "code",
   "execution_count": 13,
   "id": "78e586a3",
   "metadata": {},
   "outputs": [
    {
     "name": "stdout",
     "output_type": "stream",
     "text": [
      "76.5\n",
      "7.011894655987543\n"
     ]
    }
   ],
   "source": [
    "mean = ncaa[\"Points\"].mean()\n",
    "sd = ncaa[\"Points\"].std()\n",
    "print(mean)\n",
    "print(sd)"
   ]
  },
  {
   "cell_type": "code",
   "execution_count": 28,
   "id": "e594e66e",
   "metadata": {},
   "outputs": [
    {
     "name": "stdout",
     "output_type": "stream",
     "text": [
      "83.51189465598755\n",
      "90.5237893119751\n"
     ]
    }
   ],
   "source": [
    "For_84_points  = mean+1*sd\n",
    "print(For_84_points )\n",
    "#We know that bell curve has 50% data more than mean, and SD 1 has 68% in data with in. 1/2 of data os 34% hence\n",
    "#Hence Probabity is (50-34) = 16% appx. for 84 or more than 84 points\n",
    "\n",
    "\n",
    "For_90_points  = mean+2*sd\n",
    "print(For_90_points )\n",
    "#We know that bell curve has 50% data more than mean, and SD 1 has 95% in data with in. 1/2 of data os 47.5% hence\n",
    "#Hence Probabity is (50-47.5%) = 2.5% appx. for 90 or more than 90 points\n"
   ]
  },
  {
   "cell_type": "code",
   "execution_count": 37,
   "id": "06adee97",
   "metadata": {},
   "outputs": [
    {
     "name": "stdout",
     "output_type": "stream",
     "text": [
      "12.2\n",
      "7.885288693369303\n"
     ]
    }
   ],
   "source": [
    "mean_m = ncaa[\"Winning Margin\"].mean()\n",
    "sd_m = ncaa[\"Winning Margin\"].std()\n",
    "print(mean_m)\n",
    "print(sd_m)"
   ]
  },
  {
   "cell_type": "code",
   "execution_count": 56,
   "id": "25cb336f",
   "metadata": {},
   "outputs": [
    {
     "name": "stdout",
     "output_type": "stream",
     "text": [
      "Empty DataFrame\n",
      "Columns: [Winning Team, Points, Unnamed: 2, Losing Team, Points.1, Unnamed: 5, Winning Margin]\n",
      "Index: []\n"
     ]
    },
    {
     "data": {
      "image/png": "[encoded data removed]",
      "text/plain": [
       "<Figure size 432x288 with 1 Axes>"
      ]
     },
     "metadata": {
      "needs_background": "light"
     },
     "output_type": "display_data"
    }
   ],
   "source": [
    "#Lets see  from all ways if data has outlier.\n",
    "\n",
    "#First - GEATER THAN 3 SD\n",
    "print(ncaa[ncaa[\"Winning Margin\"] > mean_m+ 2*sd_m])\n",
    "#Shows no oulier\n",
    "\n",
    "ncaa.boxplot()\n",
    "plt.show()\n",
    "#Boxplot also shows no outlier bases of Quartiles ranges method."
   ]
  },
  {
   "cell_type": "code",
   "execution_count": null,
   "id": "f2ba4ded",
   "metadata": {},
   "outputs": [],
   "source": []
  }
 ],
 "metadata": {
  "kernelspec": {
   "display_name": "Python 3 (ipykernel)",
   "language": "python",
   "name": "python3"
  },
  "language_info": {
   "codemirror_mode": {
    "name": "ipython",
    "version": 3
   },
   "file_extension": ".py",
   "mimetype": "text/x-python",
   "name": "python",
   "nbconvert_exporter": "python",
   "pygments_lexer": "ipython3",
   "version": "3.8.8"
  }
 },
 "nbformat": 4,
 "nbformat_minor": 5
}
