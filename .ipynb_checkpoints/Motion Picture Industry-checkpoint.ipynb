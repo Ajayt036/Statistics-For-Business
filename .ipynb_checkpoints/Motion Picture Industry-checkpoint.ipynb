{
 "cells": [
  {
   "cell_type": "markdown",
   "id": "82340109",
   "metadata": {},
   "source": [
    "## Motion Picture Industry"
   ]
  },
  {
   "cell_type": "markdown",
   "id": "465ab12f",
   "metadata": {},
   "source": [
    "The movie industry is a competitive business. More than 50 studios produce hundreds of new movies for theater release each year, and the FInancial success of each movie varies considerably. \n",
    "<BR>\n",
    "    \n",
    "The opening weekend gross sales (in millions), the total gross sales ( in millions), the number of theaters the movie was shown in, and the number of weeks the movie was in release are common variables used to measure the success of a movie released to theaters. \n",
    "<BR>\n",
    "    \n",
    "Data collected for the top 100 theater movies released are contained in the file Movies_Data(Box Office Mojo website)."
   ]
  },
  {
   "cell_type": "code",
   "execution_count": 17,
   "id": "64de7fa2",
   "metadata": {},
   "outputs": [],
   "source": [
    "#Installi important basic libraries\n",
    "import pandas as pd\n",
    "import matplotlib.pyplot as plt\n",
    "import seaborn as sns\n",
    "%matplotlib inline\n"
   ]
  },
  {
   "cell_type": "code",
   "execution_count": 25,
   "id": "8109788f",
   "metadata": {},
   "outputs": [
    {
     "name": "stdout",
     "output_type": "stream",
     "text": [
      "(100, 5)\n"
     ]
    },
    {
     "data": {
      "text/html": [
       "<div>\n",
       "<style scoped>\n",
       "    .dataframe tbody tr th:only-of-type {\n",
       "        vertical-align: middle;\n",
       "    }\n",
       "\n",
       "    .dataframe tbody tr th {\n",
       "        vertical-align: top;\n",
       "    }\n",
       "\n",
       "    .dataframe thead th {\n",
       "        text-align: right;\n",
       "    }\n",
       "</style>\n",
       "<table border=\"1\" class=\"dataframe\">\n",
       "  <thead>\n",
       "    <tr style=\"text-align: right;\">\n",
       "      <th></th>\n",
       "      <th>Movie Title</th>\n",
       "      <th>Opening Gross Sales ($ millions)</th>\n",
       "      <th>Total Gross Sales ($ millions)</th>\n",
       "      <th>Number of Theaters</th>\n",
       "      <th>Weeks in Release</th>\n",
       "    </tr>\n",
       "  </thead>\n",
       "  <tbody>\n",
       "    <tr>\n",
       "      <th>0</th>\n",
       "      <td>Rogue One: A Star Wars Story</td>\n",
       "      <td>155.08</td>\n",
       "      <td>532.18</td>\n",
       "      <td>4157</td>\n",
       "      <td>20</td>\n",
       "    </tr>\n",
       "    <tr>\n",
       "      <th>1</th>\n",
       "      <td>Finding Dory</td>\n",
       "      <td>135.06</td>\n",
       "      <td>486.30</td>\n",
       "      <td>4305</td>\n",
       "      <td>25</td>\n",
       "    </tr>\n",
       "    <tr>\n",
       "      <th>2</th>\n",
       "      <td>Captain America: Civil War</td>\n",
       "      <td>179.14</td>\n",
       "      <td>408.08</td>\n",
       "      <td>4226</td>\n",
       "      <td>20</td>\n",
       "    </tr>\n",
       "    <tr>\n",
       "      <th>3</th>\n",
       "      <td>The Secret Life of Pets</td>\n",
       "      <td>104.35</td>\n",
       "      <td>368.38</td>\n",
       "      <td>4381</td>\n",
       "      <td>25</td>\n",
       "    </tr>\n",
       "    <tr>\n",
       "      <th>4</th>\n",
       "      <td>The Jungle Book (2016)</td>\n",
       "      <td>103.26</td>\n",
       "      <td>364.00</td>\n",
       "      <td>4144</td>\n",
       "      <td>24</td>\n",
       "    </tr>\n",
       "  </tbody>\n",
       "</table>\n",
       "</div>"
      ],
      "text/plain": [
       "                    Movie Title  Opening Gross Sales ($ millions)  \\\n",
       "0  Rogue One: A Star Wars Story                            155.08   \n",
       "1                  Finding Dory                            135.06   \n",
       "2    Captain America: Civil War                            179.14   \n",
       "3       The Secret Life of Pets                            104.35   \n",
       "4        The Jungle Book (2016)                            103.26   \n",
       "\n",
       "   Total Gross Sales ($ millions)  Number of Theaters  Weeks in Release  \n",
       "0                          532.18                4157                20  \n",
       "1                          486.30                4305                25  \n",
       "2                          408.08                4226                20  \n",
       "3                          368.38                4381                25  \n",
       "4                          364.00                4144                24  "
      ]
     },
     "execution_count": 25,
     "metadata": {},
     "output_type": "execute_result"
    }
   ],
   "source": [
    "#Read data set in the jypter notebook and preview\n",
    "movies = pd.read_excel(\"movies_Data.xlsx\")\n",
    "print(movies.shape)\n",
    "movies.head()"
   ]
  },
  {
   "cell_type": "code",
   "execution_count": 28,
   "id": "c38280bb",
   "metadata": {},
   "outputs": [
    {
     "data": {
      "text/html": [
       "<div>\n",
       "<style scoped>\n",
       "    .dataframe tbody tr th:only-of-type {\n",
       "        vertical-align: middle;\n",
       "    }\n",
       "\n",
       "    .dataframe tbody tr th {\n",
       "        vertical-align: top;\n",
       "    }\n",
       "\n",
       "    .dataframe thead th {\n",
       "        text-align: right;\n",
       "    }\n",
       "</style>\n",
       "<table border=\"1\" class=\"dataframe\">\n",
       "  <thead>\n",
       "    <tr style=\"text-align: right;\">\n",
       "      <th></th>\n",
       "      <th>Movie Title</th>\n",
       "      <th>Opening Gross Sales ($ millions)</th>\n",
       "      <th>Total Gross Sales ($ millions)</th>\n",
       "      <th>Number of Theaters</th>\n",
       "      <th>Weeks in Release</th>\n",
       "    </tr>\n",
       "  </thead>\n",
       "  <tbody>\n",
       "    <tr>\n",
       "      <th>0</th>\n",
       "      <td>Rogue One: A Star Wars Story</td>\n",
       "      <td>155.08</td>\n",
       "      <td>532.18</td>\n",
       "      <td>4157</td>\n",
       "      <td>20</td>\n",
       "    </tr>\n",
       "    <tr>\n",
       "      <th>1</th>\n",
       "      <td>Finding Dory</td>\n",
       "      <td>135.06</td>\n",
       "      <td>486.30</td>\n",
       "      <td>4305</td>\n",
       "      <td>25</td>\n",
       "    </tr>\n",
       "    <tr>\n",
       "      <th>2</th>\n",
       "      <td>Captain America: Civil War</td>\n",
       "      <td>179.14</td>\n",
       "      <td>408.08</td>\n",
       "      <td>4226</td>\n",
       "      <td>20</td>\n",
       "    </tr>\n",
       "    <tr>\n",
       "      <th>3</th>\n",
       "      <td>The Secret Life of Pets</td>\n",
       "      <td>104.35</td>\n",
       "      <td>368.38</td>\n",
       "      <td>4381</td>\n",
       "      <td>25</td>\n",
       "    </tr>\n",
       "    <tr>\n",
       "      <th>4</th>\n",
       "      <td>The Jungle Book (2016)</td>\n",
       "      <td>103.26</td>\n",
       "      <td>364.00</td>\n",
       "      <td>4144</td>\n",
       "      <td>24</td>\n",
       "    </tr>\n",
       "  </tbody>\n",
       "</table>\n",
       "</div>"
      ],
      "text/plain": [
       "                    Movie Title  Opening Gross Sales ($ millions)  \\\n",
       "0  Rogue One: A Star Wars Story                            155.08   \n",
       "1                  Finding Dory                            135.06   \n",
       "2    Captain America: Civil War                            179.14   \n",
       "3       The Secret Life of Pets                            104.35   \n",
       "4        The Jungle Book (2016)                            103.26   \n",
       "\n",
       "   Total Gross Sales ($ millions)  Number of Theaters  Weeks in Release  \n",
       "0                          532.18                4157                20  \n",
       "1                          486.30                4305                25  \n",
       "2                          408.08                4226                20  \n",
       "3                          368.38                4381                25  \n",
       "4                          364.00                4144                24  "
      ]
     },
     "execution_count": 28,
     "metadata": {},
     "output_type": "execute_result"
    }
   ],
   "source": [
    "#Lets see Top 5 movies with highest gross sales\n",
    "movies.head().sort_values(\"Total Gross Sales ($ millions)\", ascending=False)"
   ]
  },
  {
   "cell_type": "code",
   "execution_count": 76,
   "id": "4ec4463e",
   "metadata": {},
   "outputs": [
    {
     "data": {
      "image/png": "[encoded data removed]",
      "text/plain": [
       "<Figure size 432x288 with 1 Axes>"
      ]
     },
     "metadata": {
      "needs_background": "light"
     },
     "output_type": "display_data"
    }
   ],
   "source": [
    "#We can think that whatever movies satys more in theatre will have chance of more sales. Lets see if that is true\n",
    "sns.scatterplot(data = movies, x=\"Number of Theaters\", y= \"Total Gross Sales ($ millions)\" )\n",
    "plt.show()\n",
    "#Well it turns out to be true from scatter plot.\n"
   ]
  },
  {
   "cell_type": "code",
   "execution_count": 74,
   "id": "3198fee0",
   "metadata": {},
   "outputs": [
    {
     "data": {
      "image/png": "[encoded data removed]",
      "text/plain": [
       "<Figure size 432x288 with 1 Axes>"
      ]
     },
     "metadata": {
      "needs_background": "light"
     },
     "output_type": "display_data"
    }
   ],
   "source": [
    "#Lets see if same hold true w.r.t to number of weeks movie running\n",
    "sns.scatterplot(data = movies, x=\"Weeks in Release\", y= \"Total Gross Sales ($ millions)\" )\n",
    "plt.show()\n",
    "#Well, Upto Week 20 we can see a poitive relatuob between sales and number of weeks movie running\n",
    "#But after 20 weeks, there is no relation observed."
   ]
  },
  {
   "cell_type": "code",
   "execution_count": 70,
   "id": "5474f957",
   "metadata": {},
   "outputs": [
    {
     "data": {
      "image/png": "[encoded data removed]",
      "text/plain": [
       "<Figure size 432x288 with 1 Axes>"
      ]
     },
     "metadata": {
      "needs_background": "light"
     },
     "output_type": "display_data"
    }
   ],
   "source": [
    "#We have two sales variable:Opening and Gross\n",
    "#Lets see if movies that opened with high sales remain in highest gross sales too.\n",
    "sns.scatterplot(data = movies, x=\"Opening Gross Sales ($ millions)\", y= \"Total Gross Sales ($ millions)\")\n",
    "plt.show()\n",
    "#Well Yes, The opening sales of a movie can help produce and director to forecast future sales till week 20."
   ]
  },
  {
   "cell_type": "code",
   "execution_count": 72,
   "id": "b4119c4b",
   "metadata": {},
   "outputs": [
    {
     "data": {
      "image/png": "[encoded data removed]",
      "text/plain": [
       "<Figure size 432x288 with 1 Axes>"
      ]
     },
     "metadata": {
      "needs_background": "light"
     },
     "output_type": "display_data"
    }
   ],
   "source": [
    "#Lets also visulize the distribution of Total Gross sales to check is there is any pattern.\n",
    "movies[\"Total Gross Sales ($ millions)\"].plot(kind = \"hist\", bins = [0,50,100,150,200,250,300,350,400,450,500,550],\n",
    "                                              facecolor = \"y\",edgecolor = \"g\")\n",
    "plt.xticks([0,50,100,150,200,250,300,350,400,450,500,550])\n",
    "plt.xlabel(\"Gross sales\")\n",
    "plt.show()\n",
    "#70 movies out of 100 have total gross sales below 100M USD. and only 3 have more than 400M USD sales."
   ]
  },
  {
   "cell_type": "code",
   "execution_count": 73,
   "id": "5c28a48a",
   "metadata": {},
   "outputs": [
    {
     "data": {
      "image/png": "[encoded data removed]",
      "text/plain": [
       "<Figure size 432x288 with 1 Axes>"
      ]
     },
     "metadata": {
      "needs_background": "light"
     },
     "output_type": "display_data"
    }
   ],
   "source": [
    "#Because we have already seen that opening sales and gross sales make positive relationship\n",
    "#hence we can epect same distribution for opening sales\n",
    "movies[\"Opening Gross Sales ($ millions)\"].plot(kind = \"hist\", bins = [0,30,60,90,120,150,180],\n",
    "                                              facecolor = \"y\",edgecolor = \"g\")\n",
    "plt.xticks([0,30,60,90,120,150,180])\n",
    "plt.xlabel(\"Opening sales\")\n",
    "plt.show()"
   ]
  },
  {
   "cell_type": "markdown",
   "id": "d9bbc497",
   "metadata": {},
   "source": [
    "__________________________________________________________________________________________________________________"
   ]
  },
  {
   "cell_type": "markdown",
   "id": "f51efa61",
   "metadata": {},
   "source": [
    "Data Set Source: \"Statistics for Bussiness and Economics\""
   ]
  }
 ],
 "metadata": {
  "kernelspec": {
   "display_name": "Python 3 (ipykernel)",
   "language": "python",
   "name": "python3"
  },
  "language_info": {
   "codemirror_mode": {
    "name": "ipython",
    "version": 3
   },
   "file_extension": ".py",
   "mimetype": "text/x-python",
   "name": "python",
   "nbconvert_exporter": "python",
   "pygments_lexer": "ipython3",
   "version": "3.8.8"
  }
 },
 "nbformat": 4,
 "nbformat_minor": 5
}
