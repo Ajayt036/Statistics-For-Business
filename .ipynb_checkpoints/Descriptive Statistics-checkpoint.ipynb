{
 "cells": [
  {
   "cell_type": "markdown",
   "id": "d89c9bd1",
   "metadata": {},
   "source": [
    "#### Import Required Libraries"
   ]
  },
  {
   "cell_type": "code",
   "execution_count": 35,
   "id": "8db4041d",
   "metadata": {},
   "outputs": [],
   "source": [
    "import pandas as pd\n",
    "import numpy as np\n",
    "import seaborn as sns\n",
    "import matplotlib.pyplot as plt\n",
    "import scipy.stats as stats"
   ]
  },
  {
   "cell_type": "markdown",
   "id": "5faaae68",
   "metadata": {},
   "source": [
    "# 1. Unemployment Rates by State."
   ]
  },
  {
   "cell_type": "markdown",
   "id": "ce94c81a",
   "metadata": {},
   "source": [
    "The U.S. Bureau of Labor Statistics collects\n",
    "data on unemployment rates in each state. The data contained in the file\n",
    "UnemploymentRates show the unemployment rate for every state and the District\n",
    "of Columbia over two consecutive years. \n",
    "- To compare unemployment rates for\n",
    "the previous year with unemployment rates for the current year, compute the first\n",
    "quartile, the median, and the third quartile for the previous year unemployment data\n",
    "and the current year unemployment data. \n",
    "- What do these statistics suggest about the\n",
    "change in unemployment rates across the states over these two years?"
   ]
  },
  {
   "cell_type": "code",
   "execution_count": 210,
   "id": "292b011f",
   "metadata": {},
   "outputs": [
    {
     "data": {
      "text/html": [
       "<div>\n",
       "<style scoped>\n",
       "    .dataframe tbody tr th:only-of-type {\n",
       "        vertical-align: middle;\n",
       "    }\n",
       "\n",
       "    .dataframe tbody tr th {\n",
       "        vertical-align: top;\n",
       "    }\n",
       "\n",
       "    .dataframe thead th {\n",
       "        text-align: right;\n",
       "    }\n",
       "</style>\n",
       "<table border=\"1\" class=\"dataframe\">\n",
       "  <thead>\n",
       "    <tr style=\"text-align: right;\">\n",
       "      <th></th>\n",
       "      <th>State</th>\n",
       "      <th>Uneployment Rate (Previous Year)</th>\n",
       "      <th>Uneployment Rate (Current Year)</th>\n",
       "    </tr>\n",
       "  </thead>\n",
       "  <tbody>\n",
       "    <tr>\n",
       "      <th>0</th>\n",
       "      <td>Alabama</td>\n",
       "      <td>9.3</td>\n",
       "      <td>7.3</td>\n",
       "    </tr>\n",
       "    <tr>\n",
       "      <th>1</th>\n",
       "      <td>Alaska</td>\n",
       "      <td>7.6</td>\n",
       "      <td>7.0</td>\n",
       "    </tr>\n",
       "    <tr>\n",
       "      <th>2</th>\n",
       "      <td>Arizona</td>\n",
       "      <td>9.6</td>\n",
       "      <td>8.6</td>\n",
       "    </tr>\n",
       "    <tr>\n",
       "      <th>3</th>\n",
       "      <td>Arkansas</td>\n",
       "      <td>8.0</td>\n",
       "      <td>7.4</td>\n",
       "    </tr>\n",
       "    <tr>\n",
       "      <th>4</th>\n",
       "      <td>California</td>\n",
       "      <td>11.9</td>\n",
       "      <td>11.0</td>\n",
       "    </tr>\n",
       "  </tbody>\n",
       "</table>\n",
       "</div>"
      ],
      "text/plain": [
       "        State  Uneployment Rate (Previous Year)  \\\n",
       "0     Alabama                               9.3   \n",
       "1      Alaska                               7.6   \n",
       "2     Arizona                               9.6   \n",
       "3    Arkansas                               8.0   \n",
       "4  California                              11.9   \n",
       "\n",
       "   Uneployment Rate (Current Year)  \n",
       "0                              7.3  \n",
       "1                              7.0  \n",
       "2                              8.6  \n",
       "3                              7.4  \n",
       "4                             11.0  "
      ]
     },
     "execution_count": 210,
     "metadata": {},
     "output_type": "execute_result"
    }
   ],
   "source": [
    "ur = pd.read_excel(\"UnemploymentRates.xlsx\")\n",
    "ur.head()"
   ]
  },
  {
   "cell_type": "code",
   "execution_count": 223,
   "id": "9b07706c",
   "metadata": {},
   "outputs": [
    {
     "data": {
      "image/png": "[encoded data removed]",
      "text/plain": [
       "<Figure size 432x288 with 1 Axes>"
      ]
     },
     "metadata": {
      "needs_background": "light"
     },
     "output_type": "display_data"
    }
   ],
   "source": [
    "#Before Solving the problem, Lets viualize our data\n",
    "# Lets create a table of top 10 Sates with Highest unemployment of current and last year.\n",
    "top_10 = ur.sort_values([\"Uneployment Rate (Previous Year)\",\"Uneployment Rate (Current Year)\"]\n",
    "                        , ascending=False ).head(10)\n",
    "\n",
    "#Now lets make a bart chart of currnet enplyement\n",
    "top_10.plot(kind = \"bar\",x=\"State\", y = \"Uneployment Rate (Current Year)\") #Bar_Chart\n",
    "plt.show()\n"
   ]
  },
  {
   "cell_type": "code",
   "execution_count": 241,
   "id": "d00a6df1",
   "metadata": {},
   "outputs": [
    {
     "data": {
      "image/png": "[encoded data removed]",
      "text/plain": [
       "<Figure size 432x288 with 1 Axes>"
      ]
     },
     "metadata": {
      "needs_background": "light"
     },
     "output_type": "display_data"
    }
   ],
   "source": [
    "# Lets create a tabletop 10 Sates with High unemployment of this and last year and put it on side by side bar chart\n",
    "\n",
    "top_10 = ur.sort_values([\"Uneployment Rate (Previous Year)\",\"Uneployment Rate (Current Year)\"]\n",
    "                        , ascending=False ).head(10)\n",
    "top_10\n",
    "top_10.plot(kind = \"bar\",x=\"State\")\n",
    "plt.show()"
   ]
  },
  {
   "cell_type": "markdown",
   "id": "d6d6ea48",
   "metadata": {},
   "source": [
    "#### A. To compare unemployment rates for the previous year with unemployment rates for the current year, compute the first quartile, the median, and the third quartile for the previous year unemployment data and the current year unemployment data."
   ]
  },
  {
   "cell_type": "code",
   "execution_count": 238,
   "id": "064a8ccc",
   "metadata": {},
   "outputs": [
    {
     "name": "stdout",
     "output_type": "stream",
     "text": [
      "0.25     6.875\n",
      "0.50     8.000\n",
      "0.75     9.400\n",
      "1.00    13.600\n",
      "Name: Uneployment Rate (Previous Year), dtype: float64\n",
      "0.25     6.250\n",
      "0.50     7.350\n",
      "0.75     8.575\n",
      "1.00    12.000\n",
      "Name: Uneployment Rate (Current Year), dtype: float64 \n",
      "\n"
     ]
    },
    {
     "data": {
      "image/png": "[encoded data removed]",
      "text/plain": [
       "<Figure size 432x288 with 1 Axes>"
      ]
     },
     "metadata": {
      "needs_background": "light"
     },
     "output_type": "display_data"
    }
   ],
   "source": [
    "#To compare quaartiles we can either see manual values using quantile or make boxplots\n",
    "\n",
    "#Uisng Quantile\n",
    "print(ur[\"Uneployment Rate (Previous Year)\"].quantile([0.25,0.50,0.75,1]))\n",
    "print(ur[\"Uneployment Rate (Current Year)\"].quantile([0.25,0.50,0.75,1]),\"\\n\")\n",
    "\n",
    "#Uisng Boxplt\n",
    "ur.boxplot()\n",
    "plt.show()"
   ]
  },
  {
   "cell_type": "markdown",
   "id": "09175b98",
   "metadata": {},
   "source": [
    "#### B. What do these statistics suggest about the change in unemployment rates across the states over these two years?"
   ]
  },
  {
   "cell_type": "code",
   "execution_count": 242,
   "id": "02481879",
   "metadata": {},
   "outputs": [],
   "source": [
    "#From the side by side chart and boxplot \n",
    "#we can see that prevoius year had more unemplyment rate than current year.\n"
   ]
  },
  {
   "cell_type": "markdown",
   "id": "7770c02c",
   "metadata": {},
   "source": [
    "____________________________________________________________________________________________________________________"
   ]
  },
  {
   "cell_type": "markdown",
   "id": "e7c857a9",
   "metadata": {},
   "source": [
    "# 2. Advertising Spend by Companies"
   ]
  },
  {
   "cell_type": "markdown",
   "id": "aefe7e20",
   "metadata": {},
   "source": [
    "Advertising Age annually compiles a list of the\n",
    "100 companies that spend the most on advertising. Consumer-goods company Procter\n",
    "& Gamble has often topped the list, spending billions of dollars annually. Consider\n",
    "the data found in the file Advertising. It contains annual advertising expenditures for a\n",
    "sample of 20 companies in the automotive sector and 20 companies in the department\n",
    "store sector.\n",
    "<br>\n",
    "\n",
    "a. What is the mean advertising spent for each sector?\n",
    "<br>\n",
    "b. What is the standard deviation for each sector?\n",
    "<br>\n",
    "c. What is the range of advertising spent for each sector?\n",
    "<br>\n",
    "d. What is the interquartile range for each sector?\n",
    "<br>\n",
    "e. Based on this sample and your answers to parts (a) to (d), comment on any differences\n",
    "in the advertising spending in the automotive companies versus the department\n",
    "store companies."
   ]
  },
  {
   "cell_type": "code",
   "execution_count": 6,
   "id": "a0ad3bde",
   "metadata": {},
   "outputs": [
    {
     "name": "stdout",
     "output_type": "stream",
     "text": [
      "(20, 2)\n"
     ]
    },
    {
     "data": {
      "text/html": [
       "<div>\n",
       "<style scoped>\n",
       "    .dataframe tbody tr th:only-of-type {\n",
       "        vertical-align: middle;\n",
       "    }\n",
       "\n",
       "    .dataframe tbody tr th {\n",
       "        vertical-align: top;\n",
       "    }\n",
       "\n",
       "    .dataframe thead th {\n",
       "        text-align: right;\n",
       "    }\n",
       "</style>\n",
       "<table border=\"1\" class=\"dataframe\">\n",
       "  <thead>\n",
       "    <tr style=\"text-align: right;\">\n",
       "      <th></th>\n",
       "      <th>Automotive</th>\n",
       "      <th>Department Store</th>\n",
       "    </tr>\n",
       "  </thead>\n",
       "  <tbody>\n",
       "    <tr>\n",
       "      <th>0</th>\n",
       "      <td>2366</td>\n",
       "      <td>448</td>\n",
       "    </tr>\n",
       "    <tr>\n",
       "      <th>1</th>\n",
       "      <td>1573</td>\n",
       "      <td>472</td>\n",
       "    </tr>\n",
       "    <tr>\n",
       "      <th>2</th>\n",
       "      <td>1813</td>\n",
       "      <td>622</td>\n",
       "    </tr>\n",
       "    <tr>\n",
       "      <th>3</th>\n",
       "      <td>2058</td>\n",
       "      <td>746</td>\n",
       "    </tr>\n",
       "    <tr>\n",
       "      <th>4</th>\n",
       "      <td>2254</td>\n",
       "      <td>629</td>\n",
       "    </tr>\n",
       "  </tbody>\n",
       "</table>\n",
       "</div>"
      ],
      "text/plain": [
       "   Automotive  Department Store\n",
       "0        2366               448\n",
       "1        1573               472\n",
       "2        1813               622\n",
       "3        2058               746\n",
       "4        2254               629"
      ]
     },
     "execution_count": 6,
     "metadata": {},
     "output_type": "execute_result"
    }
   ],
   "source": [
    "adv = pd.read_excel(\"Advertising.xlsx\")\n",
    "print(adv.shape)\n",
    "adv.head()"
   ]
  },
  {
   "cell_type": "markdown",
   "id": "9f3bee16",
   "metadata": {},
   "source": [
    "#### A. What is the mean advertising spent for each sector?"
   ]
  },
  {
   "cell_type": "code",
   "execution_count": 7,
   "id": "94ec6e0c",
   "metadata": {},
   "outputs": [
    {
     "data": {
      "text/plain": [
       "Automotive          1960.05\n",
       "Department Store     692.85\n",
       "dtype: float64"
      ]
     },
     "execution_count": 7,
     "metadata": {},
     "output_type": "execute_result"
    }
   ],
   "source": [
    "adv.mean()\n",
    "#We can onserve that Automotive companies spend more than Deprtment store sector"
   ]
  },
  {
   "cell_type": "markdown",
   "id": "1c9511c3",
   "metadata": {},
   "source": [
    "#### B. What is the standard deviation for each sector?"
   ]
  },
  {
   "cell_type": "code",
   "execution_count": 10,
   "id": "52f92b27",
   "metadata": {},
   "outputs": [
    {
     "data": {
      "text/plain": [
       "Automotive          481.648537\n",
       "Department Store    155.055941\n",
       "dtype: float64"
      ]
     },
     "execution_count": 10,
     "metadata": {},
     "output_type": "execute_result"
    }
   ],
   "source": [
    "adv.std()\n",
    "#We can see that standard deviation is more for automative section`\n",
    "#it means automative comnies's marketing varies alot amon each other comapred to departmemtal stores variation"
   ]
  },
  {
   "cell_type": "markdown",
   "id": "b1f365cd",
   "metadata": {},
   "source": [
    "#### C. What is the range of advertising spent for each sector?"
   ]
  },
  {
   "cell_type": "code",
   "execution_count": 16,
   "id": "5a6728a4",
   "metadata": {},
   "outputs": [
    {
     "name": "stdout",
     "output_type": "stream",
     "text": [
      "Automotive: 2303\n",
      "Automotive: 563\n"
     ]
    }
   ],
   "source": [
    "print(\"Automotive:\", adv[\"Automotive\"].max() - adv[\"Automotive\"].min())\n",
    "print(\"Automotive:\", adv[\"Department Store\"].max() - adv[\"Department Store\"].min())"
   ]
  },
  {
   "cell_type": "markdown",
   "id": "697639cd",
   "metadata": {},
   "source": [
    "#### D. What is the interquartile range for each sector?"
   ]
  },
  {
   "cell_type": "code",
   "execution_count": 17,
   "id": "b4bc30e2",
   "metadata": {},
   "outputs": [
    {
     "name": "stdout",
     "output_type": "stream",
     "text": [
      "Automotive: 496.5\n",
      "Automotive: 197.5\n"
     ]
    }
   ],
   "source": [
    "print(\"Automotive:\", adv[\"Automotive\"].quantile(0.75) - adv[\"Automotive\"].quantile(0.25))\n",
    "print(\"Automotive:\", adv[\"Department Store\"].quantile(0.75) - adv[\"Department Store\"].quantile(0.25))"
   ]
  },
  {
   "cell_type": "markdown",
   "id": "00324ad2",
   "metadata": {},
   "source": [
    "#### E. Based on this sample and your answers to parts (a) to (d), comment on any differences in the advertising spending in the automotive companies versus the department store companies."
   ]
  },
  {
   "cell_type": "code",
   "execution_count": 18,
   "id": "2a0d6e53",
   "metadata": {},
   "outputs": [],
   "source": [
    "#both a and d points toward hight money spent by Automotive stores.\n",
    "#A says autmotive stores spent big budget on advertising\n",
    "#D is the proves it by showing the bigger quartile range value."
   ]
  },
  {
   "cell_type": "markdown",
   "id": "5d933ec7",
   "metadata": {},
   "source": [
    "____________________________________________________________________________________________________________________"
   ]
  },
  {
   "cell_type": "markdown",
   "id": "b84b874b",
   "metadata": {},
   "source": [
    "# 3. NCAA Basketball Game Scores\n",
    "\n",
    "A sample of 10 NCAA college basketball game\n",
    "scores provided in dataset.\n",
    "<BR>\n",
    "    \n",
    "A.Compute the mean and standard deviation for the points scored by the winning\n",
    "teams.\n",
    "<BR>\n",
    "    \n",
    "b. Assume that the points scored by the winning teams for all NCAA games follow a\n",
    "bell-shaped distribution. Using the mean and standard deviation found in part (a),\n",
    "estimate the percentage of all NCAA games in which the winning team scores 84 or\n",
    "more points. Estimate the percentage of NCAA games in which the winning team\n",
    "scores more than 90 points.\n",
    "<BR>\n",
    "    \n",
    "c. Compute the mean and standard deviation for the winning margin. Do the data\n",
    "contain outliers? Explain."
   ]
  },
  {
   "cell_type": "code",
   "execution_count": 3,
   "id": "fdc7f132",
   "metadata": {},
   "outputs": [
    {
     "name": "stdout",
     "output_type": "stream",
     "text": [
      "(10, 7)\n"
     ]
    },
    {
     "data": {
      "text/html": [
       "<div>\n",
       "<style scoped>\n",
       "    .dataframe tbody tr th:only-of-type {\n",
       "        vertical-align: middle;\n",
       "    }\n",
       "\n",
       "    .dataframe tbody tr th {\n",
       "        vertical-align: top;\n",
       "    }\n",
       "\n",
       "    .dataframe thead th {\n",
       "        text-align: right;\n",
       "    }\n",
       "</style>\n",
       "<table border=\"1\" class=\"dataframe\">\n",
       "  <thead>\n",
       "    <tr style=\"text-align: right;\">\n",
       "      <th></th>\n",
       "      <th>Winning Team</th>\n",
       "      <th>Points</th>\n",
       "      <th>Unnamed: 2</th>\n",
       "      <th>Losing Team</th>\n",
       "      <th>Points.1</th>\n",
       "      <th>Unnamed: 5</th>\n",
       "      <th>Winning Margin</th>\n",
       "    </tr>\n",
       "  </thead>\n",
       "  <tbody>\n",
       "    <tr>\n",
       "      <th>0</th>\n",
       "      <td>Arizona</td>\n",
       "      <td>90</td>\n",
       "      <td>NaN</td>\n",
       "      <td>Oregon</td>\n",
       "      <td>66</td>\n",
       "      <td>NaN</td>\n",
       "      <td>24</td>\n",
       "    </tr>\n",
       "    <tr>\n",
       "      <th>1</th>\n",
       "      <td>Duke</td>\n",
       "      <td>85</td>\n",
       "      <td>NaN</td>\n",
       "      <td>Georgetown</td>\n",
       "      <td>66</td>\n",
       "      <td>NaN</td>\n",
       "      <td>19</td>\n",
       "    </tr>\n",
       "    <tr>\n",
       "      <th>2</th>\n",
       "      <td>Florida State</td>\n",
       "      <td>75</td>\n",
       "      <td>NaN</td>\n",
       "      <td>Wake Forrest</td>\n",
       "      <td>70</td>\n",
       "      <td>NaN</td>\n",
       "      <td>5</td>\n",
       "    </tr>\n",
       "    <tr>\n",
       "      <th>3</th>\n",
       "      <td>Kansas</td>\n",
       "      <td>78</td>\n",
       "      <td>NaN</td>\n",
       "      <td>Colorado</td>\n",
       "      <td>57</td>\n",
       "      <td>NaN</td>\n",
       "      <td>21</td>\n",
       "    </tr>\n",
       "    <tr>\n",
       "      <th>4</th>\n",
       "      <td>Kentucky</td>\n",
       "      <td>71</td>\n",
       "      <td>NaN</td>\n",
       "      <td>Notre Dame</td>\n",
       "      <td>63</td>\n",
       "      <td>NaN</td>\n",
       "      <td>8</td>\n",
       "    </tr>\n",
       "  </tbody>\n",
       "</table>\n",
       "</div>"
      ],
      "text/plain": [
       "    Winning Team  Points  Unnamed: 2   Losing Team  Points.1  Unnamed: 5  \\\n",
       "0        Arizona      90         NaN       Oregon         66         NaN   \n",
       "1          Duke       85         NaN    Georgetown        66         NaN   \n",
       "2  Florida State      75         NaN  Wake Forrest        70         NaN   \n",
       "3        Kansas       78         NaN      Colorado        57         NaN   \n",
       "4       Kentucky      71         NaN    Notre Dame        63         NaN   \n",
       "\n",
       "   Winning Margin  \n",
       "0              24  \n",
       "1              19  \n",
       "2               5  \n",
       "3              21  \n",
       "4               8  "
      ]
     },
     "execution_count": 3,
     "metadata": {},
     "output_type": "execute_result"
    }
   ],
   "source": [
    "ncaa = pd.read_excel(\"NCAA.xlsx\")\n",
    "print(ncaa.shape)\n",
    "ncaa.head()"
   ]
  },
  {
   "cell_type": "markdown",
   "id": "0fd94930",
   "metadata": {},
   "source": [
    "#### A.Compute the mean and standard deviation for the points scored by the winning teams."
   ]
  },
  {
   "cell_type": "code",
   "execution_count": 13,
   "id": "78e586a3",
   "metadata": {},
   "outputs": [
    {
     "name": "stdout",
     "output_type": "stream",
     "text": [
      "76.5\n",
      "7.011894655987543\n"
     ]
    }
   ],
   "source": [
    "mean = ncaa[\"Points\"].mean()\n",
    "sd = ncaa[\"Points\"].std()\n",
    "print(mean)\n",
    "print(sd)"
   ]
  },
  {
   "cell_type": "markdown",
   "id": "740764ed",
   "metadata": {},
   "source": [
    "#### B. Assume that the points scored by the winning teams for all NCAA games follow a bell-shaped distribution. Using the mean and standard deviation found in part (a), estimate the percentage of all NCAA games in which the winning team scores 84 or more points. Estimate the percentage of NCAA games in which the winning team scores more than 90 points."
   ]
  },
  {
   "cell_type": "code",
   "execution_count": 28,
   "id": "3a234d9d",
   "metadata": {},
   "outputs": [
    {
     "name": "stdout",
     "output_type": "stream",
     "text": [
      "83.51189465598755\n",
      "90.5237893119751\n"
     ]
    }
   ],
   "source": [
    "For_84_points  = mean+1*sd\n",
    "print(For_84_points )\n",
    "#We know that bell curve has 50% data more than mean, and SD 1 has 68% in data with in. 1/2 of data os 34% hence\n",
    "#Hence Probabity is (50-34) = 16% appx. for 84 or more than 84 points\n",
    "\n",
    "\n",
    "For_90_points  = mean+2*sd\n",
    "print(For_90_points )\n",
    "#We know that bell curve has 50% data more than mean, and SD 1 has 95% in data with in. 1/2 of data os 47.5% hence\n",
    "#Hence Probabity is (50-47.5%) = 2.5% appx. for 90 or more than 90 points\n"
   ]
  },
  {
   "cell_type": "markdown",
   "id": "a097276b",
   "metadata": {},
   "source": [
    "#### C. Compute the mean and standard deviation for the winning margin. Do the data contain outliers? Explain."
   ]
  },
  {
   "cell_type": "code",
   "execution_count": 4,
   "id": "665011d2",
   "metadata": {
    "scrolled": true
   },
   "outputs": [
    {
     "name": "stdout",
     "output_type": "stream",
     "text": [
      "0\n",
      "Winning Margin column does not have any outlier\n"
     ]
    },
    {
     "data": {
      "image/png": "[encoded data removed]",
      "text/plain": [
       "<Figure size 432x288 with 1 Axes>"
      ]
     },
     "metadata": {
      "needs_background": "light"
     },
     "output_type": "display_data"
    }
   ],
   "source": [
    "mean_m = ncaa[\"Winning Margin\"].mean()\n",
    "sd_m = ncaa[\"Winning Margin\"].std()\n",
    "\n",
    "\n",
    "#Lets see  from all ways if data has outlier.\n",
    "#First - GEATER THAN 3 SD\n",
    "print(len(ncaa[ncaa[\"Winning Margin\"] > mean_m+ 2*sd_m][\"Winning Margin\"] ))\n",
    "print(\"Winning Margin column does not have any outlier\")\n",
    "#Shows no oulier\n",
    "\n",
    "\n",
    "#Second - Lets make a boxplot\n",
    "ncaa.boxplot(\"Winning Margin\") #BoxPlot\n",
    "plt.show()\n",
    "#Boxplot also shows no outlier bases of Quartiles ranges method."
   ]
  },
  {
   "cell_type": "markdown",
   "id": "b2cd67f2",
   "metadata": {},
   "source": [
    "____________________________________________________________________________________________________________"
   ]
  },
  {
   "cell_type": "markdown",
   "id": "e60ec4f7",
   "metadata": {},
   "source": [
    "# 4. Naples Half-Marathon Times\n",
    "\n",
    "Naples, Florida, hosts a half-marathon (13.1-mile\n",
    "race) in January each year. The event attracts top runners from throughout the United\n",
    "States as well as from around the world. In the race results shown below 22 men and\n",
    "31 women entered the 19$24 age class. Finish times in minutes are as follows. Times\n",
    "are shown in order of finish.\n",
    "\n",
    "a. George Towett of Marietta, Georgia, finished in first place for the men and Lauren\n",
    "Wald of Gainesville, Florida, finished in first place for the women. Compare the\n",
    "first-place finish times for men and women. If the 53 men and women runners had\n",
    "competed as one group, in what place would Lauren have finished?\n",
    "\n",
    "\n",
    "b. What is the median time for men and women runners? Compare men and women\n",
    "runners based on their median times.\n",
    "\n",
    "c. Provide a five-number summary for both the men and the women.\n",
    "\n",
    "d. Are there outliers in either group?\n",
    "\n",
    "e. Show the boxplots for the two groups. Did men or women have the most variation\n",
    "in finish times? Explain."
   ]
  },
  {
   "cell_type": "code",
   "execution_count": 99,
   "id": "a398166c",
   "metadata": {},
   "outputs": [
    {
     "name": "stdout",
     "output_type": "stream",
     "text": [
      "(31, 3)\n"
     ]
    },
    {
     "data": {
      "text/html": [
       "<div>\n",
       "<style scoped>\n",
       "    .dataframe tbody tr th:only-of-type {\n",
       "        vertical-align: middle;\n",
       "    }\n",
       "\n",
       "    .dataframe tbody tr th {\n",
       "        vertical-align: top;\n",
       "    }\n",
       "\n",
       "    .dataframe thead th {\n",
       "        text-align: right;\n",
       "    }\n",
       "</style>\n",
       "<table border=\"1\" class=\"dataframe\">\n",
       "  <thead>\n",
       "    <tr style=\"text-align: right;\">\n",
       "      <th></th>\n",
       "      <th>Finish</th>\n",
       "      <th>Men</th>\n",
       "      <th>Women</th>\n",
       "    </tr>\n",
       "  </thead>\n",
       "  <tbody>\n",
       "    <tr>\n",
       "      <th>0</th>\n",
       "      <td>1</td>\n",
       "      <td>65.30</td>\n",
       "      <td>109.03</td>\n",
       "    </tr>\n",
       "    <tr>\n",
       "      <th>1</th>\n",
       "      <td>2</td>\n",
       "      <td>66.27</td>\n",
       "      <td>111.22</td>\n",
       "    </tr>\n",
       "    <tr>\n",
       "      <th>2</th>\n",
       "      <td>3</td>\n",
       "      <td>66.52</td>\n",
       "      <td>111.65</td>\n",
       "    </tr>\n",
       "    <tr>\n",
       "      <th>3</th>\n",
       "      <td>4</td>\n",
       "      <td>66.85</td>\n",
       "      <td>111.93</td>\n",
       "    </tr>\n",
       "    <tr>\n",
       "      <th>4</th>\n",
       "      <td>5</td>\n",
       "      <td>70.87</td>\n",
       "      <td>114.38</td>\n",
       "    </tr>\n",
       "  </tbody>\n",
       "</table>\n",
       "</div>"
      ],
      "text/plain": [
       "   Finish    Men   Women\n",
       "0       1  65.30  109.03\n",
       "1       2  66.27  111.22\n",
       "2       3  66.52  111.65\n",
       "3       4  66.85  111.93\n",
       "4       5  70.87  114.38"
      ]
     },
     "execution_count": 99,
     "metadata": {},
     "output_type": "execute_result"
    }
   ],
   "source": [
    "runner = pd.read_excel(\"Runners.xlsx\")\n",
    "print(runner.shape)\n",
    "runner.head()"
   ]
  },
  {
   "cell_type": "code",
   "execution_count": 149,
   "id": "d4079a07",
   "metadata": {},
   "outputs": [
    {
     "data": {
      "image/png": "[encoded data removed]",
      "text/plain": [
       "<Figure size 432x288 with 1 Axes>"
      ]
     },
     "metadata": {},
     "output_type": "display_data"
    }
   ],
   "source": [
    "#Lets Visulaize the trend of Men finish the race by line chart\n",
    "plt.plot(\"Finish\",\"Men\", data = runner, color = \"b\")\n",
    "plt.yticks(list(range(0,250,25)))\n",
    "plt.xlabel(\"Rank\")\n",
    "plt.ylabel(\"Timing of Men in Minutes\")\n",
    "plt.show()\n",
    "\n",
    "#What if i want to see the trend of women timing by adding new line to the same plot?\n",
    "#Lets do it next xommand prompt\n",
    "\n"
   ]
  },
  {
   "cell_type": "code",
   "execution_count": 152,
   "id": "d70a3c6a",
   "metadata": {},
   "outputs": [
    {
     "data": {
      "image/png": "[encoded data removed]",
      "text/plain": [
       "<Figure size 432x288 with 2 Axes>"
      ]
     },
     "metadata": {},
     "output_type": "display_data"
    }
   ],
   "source": [
    "#In Order to make Mutiple Line chart:\n",
    "#1. First we need to define a subplot for the qfirst quant column.\n",
    "#2. make a line plot of first quant column\n",
    "#3. Make a twin copy for second quant column\n",
    "#4. Prpare chart lables w.r.t first plot\n",
    "#5. Add secondary y axis lables in the fisrt plot.\n",
    "\n",
    "fig, m = plt.subplots() #Define subplot\n",
    "m.plot(\"Finish\", \"Men\", data = runner, color = \"b\")\n",
    "\n",
    "w = m.twinx() #Make Twin copy\n",
    "w.plot(\"Finish\", \"Women\", data = runner, color = \"r\")\n",
    "\n",
    "#Set first chart labels\n",
    "m.set_xlabel('Rank')\n",
    "m.set_ylabel('Men', color='b')\n",
    "m.set_yticks(list(range(0,250,25)))\n",
    "\n",
    "#Add secondary y axis lablels\n",
    "w.set_ylabel('Women', color='r')\n",
    "w.set_yticks(list(range(0,250,25)))\n",
    "\n",
    "plt.show()"
   ]
  },
  {
   "cell_type": "markdown",
   "id": "6d8fb4f4",
   "metadata": {},
   "source": [
    "#### A. George Towett of Marietta, Georgia, finished in first place for the men and Lauren Wald of Gainesville, Florida, finished in first place for the women. Compare the first-place finish times for men and women. If the 53 men and women runners had competed as one group, in what place would Lauren have finished?\n",
    "\n"
   ]
  },
  {
   "cell_type": "code",
   "execution_count": 226,
   "id": "576fb316",
   "metadata": {},
   "outputs": [
    {
     "name": "stdout",
     "output_type": "stream",
     "text": [
      "George Towent 148.7\n",
      "Lauren Wald 189.28\n",
      "Lauren took  40.58 minutes more than George\n"
     ]
    },
    {
     "data": {
      "image/png": "[encoded data removed]",
      "text/plain": [
       "<Figure size 432x288 with 1 Axes>"
      ]
     },
     "metadata": {},
     "output_type": "display_data"
    }
   ],
   "source": [
    "#We are given that George Towent is first among men. Lets see his timimg:\n",
    "print(\"George Towent\", runner[\"Men\"].max())\n",
    "\n",
    "#We are also given that Lauren Wald is first among Women. Lets see her timimg:\n",
    "print(\"Lauren Wald\", runner[\"Women\"].max())\n",
    "\n",
    "\n",
    "#We can see that clearly Gerge took less time than Lauren\n",
    "print(\"Lauren took \", round(runner[\"Women\"].max() -runner[\"Men\"].max(),2), \"minutes more than George\" )\n",
    "\n",
    "#We can also visulize both Lauren and Geroge timming on sibe by side bar chart\n",
    "winner = runner.sort_values([\"Men\",\"Women\"], ascending=False).head(1)\n",
    "winner = winner.rename(columns = {\"Men\":\"Geroge\", \"Women\" :\"Lauren\"} )  #Change_columns_names\n",
    "winner.set_index(\"Finish\").plot(kind=\"bar\")\n",
    "plt.xlabel(\"First Ranker\")\n",
    "plt.show()\n"
   ]
  },
  {
   "cell_type": "markdown",
   "id": "e4dcb645",
   "metadata": {},
   "source": [
    "#### B. What is the median time for men and women runners? Compare men and women runners based on their median times."
   ]
  },
  {
   "cell_type": "code",
   "execution_count": 245,
   "id": "015c8329",
   "metadata": {},
   "outputs": [
    {
     "name": "stdout",
     "output_type": "stream",
     "text": [
      "Median of men timing:  109.64\n",
      "Median of Women timing:  131.67\n"
     ]
    }
   ],
   "source": [
    "print(\"Median of men timing: \",runner[\"Men\"].median() )\n",
    "print(\"Median of Women timing: \",runner[\"Women\"].median() )\n",
    "\n",
    "#We can also visulize the median and other quartiles on boxplot as well USING ~ runner.boxplot([\"Men\", \"Women\"])\n"
   ]
  },
  {
   "cell_type": "markdown",
   "id": "0ef1d9e4",
   "metadata": {},
   "source": [
    "#### C.Provide a five-number summary for both the men and the women"
   ]
  },
  {
   "cell_type": "code",
   "execution_count": 244,
   "id": "69dd2899",
   "metadata": {},
   "outputs": [
    {
     "data": {
      "image/png": "[encoded data removed]",
      "text/plain": [
       "<Figure size 432x288 with 1 Axes>"
      ]
     },
     "metadata": {},
     "output_type": "display_data"
    }
   ],
   "source": [
    "runner.boxplot([\"Men\", \"Women\"])\n",
    "plt.title(\"Graphical summary of Mena and Women timings\")\n",
    "plt.ylabel(\"Timimngs in minutes\")\n",
    "plt.show()"
   ]
  },
  {
   "cell_type": "markdown",
   "id": "b357ee24",
   "metadata": {},
   "source": [
    "#### D. Are there outliers in either group?"
   ]
  },
  {
   "cell_type": "code",
   "execution_count": 271,
   "id": "177efede",
   "metadata": {},
   "outputs": [
    {
     "data": {
      "text/html": [
       "<div>\n",
       "<style scoped>\n",
       "    .dataframe tbody tr th:only-of-type {\n",
       "        vertical-align: middle;\n",
       "    }\n",
       "\n",
       "    .dataframe tbody tr th {\n",
       "        vertical-align: top;\n",
       "    }\n",
       "\n",
       "    .dataframe thead th {\n",
       "        text-align: right;\n",
       "    }\n",
       "</style>\n",
       "<table border=\"1\" class=\"dataframe\">\n",
       "  <thead>\n",
       "    <tr style=\"text-align: right;\">\n",
       "      <th></th>\n",
       "      <th>Finish</th>\n",
       "      <th>Men</th>\n",
       "      <th>Women</th>\n",
       "    </tr>\n",
       "  </thead>\n",
       "  <tbody>\n",
       "    <tr>\n",
       "      <th>29</th>\n",
       "      <td>30</td>\n",
       "      <td>NaN</td>\n",
       "      <td>189.27</td>\n",
       "    </tr>\n",
       "    <tr>\n",
       "      <th>30</th>\n",
       "      <td>31</td>\n",
       "      <td>NaN</td>\n",
       "      <td>189.28</td>\n",
       "    </tr>\n",
       "  </tbody>\n",
       "</table>\n",
       "</div>"
      ],
      "text/plain": [
       "    Finish  Men   Women\n",
       "29      30  NaN  189.27\n",
       "30      31  NaN  189.28"
      ]
     },
     "execution_count": 271,
     "metadata": {},
     "output_type": "execute_result"
    }
   ],
   "source": [
    "#Yes, We can clearly see the outlier in women variable above the Q4: Whihc means that outlier has value > Q4+IQR\n",
    "#We can see the outlier is in grater side.\n",
    "#We can even find the value of these outlier\n",
    "Q3 = runner[\"Women\"].quantile(0.75)\n",
    "IQR = (runner[\"Women\"].quantile(0.75) - runner[\"Women\"].quantile(0.25))\n",
    "runner[runner[\"Women\"]> Q3 + 1.5*(IQR)]\n",
    "#We can see that Finisher number 29, and 30 took way more time than compared to pther runners"
   ]
  },
  {
   "cell_type": "markdown",
   "id": "50bacc35",
   "metadata": {},
   "source": [
    "#### E. Show the boxplots for the two groups. Did men or women have the most variation in finish times? Explain"
   ]
  },
  {
   "cell_type": "code",
   "execution_count": 282,
   "id": "4b7f10cd",
   "metadata": {},
   "outputs": [
    {
     "data": {
      "image/png": "[encoded data removed]",
      "text/plain": [
       "<Figure size 432x288 with 1 Axes>"
      ]
     },
     "metadata": {},
     "output_type": "display_data"
    },
    {
     "name": "stdout",
     "output_type": "stream",
     "text": [
      "OBERVATIONS: \n",
      "1. Men timings are more sparsed than women. \n",
      "2. More thab 50% of men are fater than top women runner\n"
     ]
    }
   ],
   "source": [
    "runner.boxplot([\"Men\", \"Women\"])\n",
    "plt.title(\"Graphical summary of Mena and Women timings\")\n",
    "plt.ylabel(\"Timimngs in minutes\")\n",
    "plt.show()\n",
    "\n",
    "print(\"OBERVATIONS:\",\"\\n\"\n",
    "\"1. Men timings are more sparsed than women.\",\"\\n\"\n",
    "\"2. More thab 50% of men are fater than top women runner\")"
   ]
  },
  {
   "cell_type": "markdown",
   "id": "1ec4397f",
   "metadata": {},
   "source": [
    "____________________________________________________________________________________________________________________"
   ]
  },
  {
   "cell_type": "markdown",
   "id": "016b2bc8",
   "metadata": {},
   "source": [
    "## 5. Stock Market Indexes Comparison\n",
    "\n",
    "The Russell 1000 is a stock market index\n",
    "consisting of the largest U.S. companies. The Dow Jones Industrial Average is based\n",
    "on 30 large companies. The file Russell gives the annual percentage returns for each of\n",
    "these stock indexes for the years 1988 to 2012 (1Stock1 website).\n",
    "\n",
    "a. Plot these percentage returns using a scatter plot.\n",
    "\n",
    "b. Compute the sample mean and standard deviation for each index.\n",
    "\n",
    "c. Compute the sample correlation.\n",
    "\n",
    "d. Discuss similarities and differences in these two indexes"
   ]
  },
  {
   "cell_type": "code",
   "execution_count": 294,
   "id": "caee5013",
   "metadata": {},
   "outputs": [
    {
     "name": "stdout",
     "output_type": "stream",
     "text": [
      "(60, 3)\n"
     ]
    },
    {
     "data": {
      "text/html": [
       "<div>\n",
       "<style scoped>\n",
       "    .dataframe tbody tr th:only-of-type {\n",
       "        vertical-align: middle;\n",
       "    }\n",
       "\n",
       "    .dataframe tbody tr th {\n",
       "        vertical-align: top;\n",
       "    }\n",
       "\n",
       "    .dataframe thead th {\n",
       "        text-align: right;\n",
       "    }\n",
       "</style>\n",
       "<table border=\"1\" class=\"dataframe\">\n",
       "  <thead>\n",
       "    <tr style=\"text-align: right;\">\n",
       "      <th></th>\n",
       "      <th>Date</th>\n",
       "      <th>Apple</th>\n",
       "      <th>P&amp;G</th>\n",
       "    </tr>\n",
       "  </thead>\n",
       "  <tbody>\n",
       "    <tr>\n",
       "      <th>0</th>\n",
       "      <td>2013-06-01</td>\n",
       "      <td>44.438164</td>\n",
       "      <td>65.711418</td>\n",
       "    </tr>\n",
       "    <tr>\n",
       "      <th>1</th>\n",
       "      <td>2013-07-01</td>\n",
       "      <td>50.713947</td>\n",
       "      <td>68.536522</td>\n",
       "    </tr>\n",
       "    <tr>\n",
       "      <th>2</th>\n",
       "      <td>2013-08-01</td>\n",
       "      <td>54.601574</td>\n",
       "      <td>66.977119</td>\n",
       "    </tr>\n",
       "  </tbody>\n",
       "</table>\n",
       "</div>"
      ],
      "text/plain": [
       "        Date      Apple        P&G\n",
       "0 2013-06-01  44.438164  65.711418\n",
       "1 2013-07-01  50.713947  68.536522\n",
       "2 2013-08-01  54.601574  66.977119"
      ]
     },
     "execution_count": 294,
     "metadata": {},
     "output_type": "execute_result"
    }
   ],
   "source": [
    "stock = pd.read_excel(\"StockComparison.xlsx\")\n",
    "stock = stock.rename(columns ={\"Apple Adjusted Stock Price\":\"Apple\", \"P&G Adjusted Stock Price\":\"P&G\"})\n",
    "print(stock.shape)\n",
    "stock.head(3)"
   ]
  },
  {
   "cell_type": "markdown",
   "id": "274a65b2",
   "metadata": {},
   "source": [
    "#### A. Plot these percentage returns using a scatter plot."
   ]
  },
  {
   "cell_type": "code",
   "execution_count": 301,
   "id": "df5ad147",
   "metadata": {},
   "outputs": [
    {
     "data": {
      "image/png": "[encoded data removed]",
      "text/plain": [
       "<Figure size 432x288 with 1 Axes>"
      ]
     },
     "metadata": {},
     "output_type": "display_data"
    },
    {
     "name": "stdout",
     "output_type": "stream",
     "text": [
      "A linear relationship is seen but causation \n"
     ]
    }
   ],
   "source": [
    "sns.scatterplot(x = \"Apple\", y = \"P&G\", data = stock)\n",
    "plt.show()\n",
    "print(\"A linear relationship is seen but causation \")"
   ]
  },
  {
   "cell_type": "markdown",
   "id": "6e5f0426",
   "metadata": {},
   "source": [
    "#### B. Compute the sample mean and standard deviation for each index."
   ]
  },
  {
   "cell_type": "code",
   "execution_count": 313,
   "id": "deaa097e",
   "metadata": {},
   "outputs": [
    {
     "name": "stdout",
     "output_type": "stream",
     "text": [
      "Apple mean:  110.98 \n",
      "Apple SD  :  35.17 \n",
      "\n",
      "P&G mean:  76.31 \n",
      "P&G SD  :  7.19 \n",
      "\n"
     ]
    }
   ],
   "source": [
    "print(\"Apple mean: \",round(stock.Apple.mean(),2),\"\\n\"\n",
    "      \"Apple SD  : \", round(stock.Apple.std(),2),\"\\n\")\n",
    "\n",
    "\n",
    "print(\"P&G mean: \",round(stock[\"P&G\"].mean(),2),\"\\n\"\n",
    "      \"P&G SD  : \", round(stock[\"P&G\"].std(),2),\"\\n\")"
   ]
  },
  {
   "cell_type": "markdown",
   "id": "8e946d53",
   "metadata": {},
   "source": [
    "#### C. Compute the sample correlation."
   ]
  },
  {
   "cell_type": "code",
   "execution_count": 326,
   "id": "0cceba7b",
   "metadata": {},
   "outputs": [
    {
     "name": "stdout",
     "output_type": "stream",
     "text": [
      "0.67 shows a positive correlation\n"
     ]
    }
   ],
   "source": [
    "correlation = stock['Apple'].corr(stock['P&G']) #CORRELATION\n",
    "print(round(correlation,2 ),\"shows a positive correlation\")\n"
   ]
  },
  {
   "cell_type": "markdown",
   "id": "6905dc02",
   "metadata": {},
   "source": [
    "#### D. Discuss similarities and differences in these two indexes."
   ]
  },
  {
   "cell_type": "code",
   "execution_count": 330,
   "id": "5be0fe05",
   "metadata": {},
   "outputs": [],
   "source": [
    "#Similarity: Both column shows correlation of 0.67\n",
    "#mean of Apple stock is greater than P&G\n",
    "#Apple stocks prices have more variance than P&G"
   ]
  },
  {
   "cell_type": "markdown",
   "id": "ae72911e",
   "metadata": {},
   "source": [
    "________________________________________________________________________________________________________________"
   ]
  }
 ],
 "metadata": {
  "kernelspec": {
   "display_name": "Python 3 (ipykernel)",
   "language": "python",
   "name": "python3"
  },
  "language_info": {
   "codemirror_mode": {
    "name": "ipython",
    "version": 3
   },
   "file_extension": ".py",
   "mimetype": "text/x-python",
   "name": "python",
   "nbconvert_exporter": "python",
   "pygments_lexer": "ipython3",
   "version": "3.8.8"
  }
 },
 "nbformat": 4,
 "nbformat_minor": 5
}
