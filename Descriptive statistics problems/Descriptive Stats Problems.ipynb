{
 "cells": [
  {
   "cell_type": "markdown",
   "id": "f39f354c",
   "metadata": {},
   "source": [
    "# 1. Comparing Compact SUVs"
   ]
  },
  {
   "cell_type": "markdown",
   "id": "bc4edba4",
   "metadata": {},
   "source": [
    "Consumer Reports evaluates products for consumers. The file CompactSUV contains the data for 15 compact sports util- ity vehicles (SUVs) from the 2018 model line (Consumer Reports website):\n",
    "<br>\n",
    "<br>\n",
    "Make—manufacturer\n",
    "<br>\n",
    "Model—name of the model\n",
    "<br>\n",
    "Overall score—awarded based on a variety of measures, including those in this data set \n",
    "<br>\n",
    "Recommended—Consumer Reports recommends the vehicle or not\n",
    "<br>\n",
    "Owner satisfaction—satisfaction on a five-point scale based on the percentage of owners who would purchase the vehicle again (– –, –, 0, +, ++)\n",
    "<br>\n",
    "Overall miles per gallon—miles per gallon achieved in a 150-mile test trip.\n",
    "<br>\n",
    "Acceleration (0–60 sec)—time in seconds it takes vehicle to reach 60 miles per hour from a standstill with the engine idling.\n",
    "\n",
    "a. How many variables are in the data set?\n",
    "<br>\n",
    "b. Which of the variables are categorical, and which are quantitative?\n",
    "<br>\n",
    "c. What percentage of these 15 vehicles are recommended?\n",
    "<br>\n",
    "d. What is the average of the overall miles per gallon across all 15 vehicles?\n",
    "<br>\n",
    "e. For owner satisfaction, construct a bar chart similar\n",
    "<br>\n",
    "f. Show the frequency distribution for acceleration using the following intervals: 7.0– 7.9, 8.0–8.9, 9.0–9.9, and 10.0–10.9. Construct a histogram \n",
    "<br>"
   ]
  },
  {
   "cell_type": "markdown",
   "id": "87f0329f",
   "metadata": {},
   "source": [
    "#### First Let's panda library and read the data set. And keep [d,i,t,c,h] describe ,info, table, col_names and head ready for data view."
   ]
  },
  {
   "cell_type": "code",
   "execution_count": 311,
   "id": "4d421a61",
   "metadata": {},
   "outputs": [
    {
     "data": {
      "text/html": [
       "<div>\n",
       "<style scoped>\n",
       "    .dataframe tbody tr th:only-of-type {\n",
       "        vertical-align: middle;\n",
       "    }\n",
       "\n",
       "    .dataframe tbody tr th {\n",
       "        vertical-align: top;\n",
       "    }\n",
       "\n",
       "    .dataframe thead th {\n",
       "        text-align: right;\n",
       "    }\n",
       "</style>\n",
       "<table border=\"1\" class=\"dataframe\">\n",
       "  <thead>\n",
       "    <tr style=\"text-align: right;\">\n",
       "      <th></th>\n",
       "      <th>Make</th>\n",
       "      <th>Model</th>\n",
       "      <th>Overall Score</th>\n",
       "      <th>Recommended</th>\n",
       "      <th>Owner Satisfaction</th>\n",
       "      <th>Overall Miles Per Gallon</th>\n",
       "      <th>Acceleration (0-60) Sec</th>\n",
       "    </tr>\n",
       "  </thead>\n",
       "  <tbody>\n",
       "    <tr>\n",
       "      <th>0</th>\n",
       "      <td>Subaru</td>\n",
       "      <td>Forester</td>\n",
       "      <td>84</td>\n",
       "      <td>Yes</td>\n",
       "      <td>+</td>\n",
       "      <td>26</td>\n",
       "      <td>8.7</td>\n",
       "    </tr>\n",
       "    <tr>\n",
       "      <th>1</th>\n",
       "      <td>Honda</td>\n",
       "      <td>CRV</td>\n",
       "      <td>83</td>\n",
       "      <td>Yes</td>\n",
       "      <td>++</td>\n",
       "      <td>27</td>\n",
       "      <td>8.6</td>\n",
       "    </tr>\n",
       "    <tr>\n",
       "      <th>2</th>\n",
       "      <td>Toyota</td>\n",
       "      <td>Rav4</td>\n",
       "      <td>81</td>\n",
       "      <td>Yes</td>\n",
       "      <td>++</td>\n",
       "      <td>24</td>\n",
       "      <td>9.3</td>\n",
       "    </tr>\n",
       "    <tr>\n",
       "      <th>3</th>\n",
       "      <td>Nissan</td>\n",
       "      <td>Rogue</td>\n",
       "      <td>73</td>\n",
       "      <td>Yes</td>\n",
       "      <td>+</td>\n",
       "      <td>24</td>\n",
       "      <td>9.5</td>\n",
       "    </tr>\n",
       "    <tr>\n",
       "      <th>4</th>\n",
       "      <td>Mazda</td>\n",
       "      <td>CX-5</td>\n",
       "      <td>71</td>\n",
       "      <td>Yes</td>\n",
       "      <td>++</td>\n",
       "      <td>24</td>\n",
       "      <td>8.6</td>\n",
       "    </tr>\n",
       "  </tbody>\n",
       "</table>\n",
       "</div>"
      ],
      "text/plain": [
       "     Make     Model  Overall Score Recommended Owner Satisfaction  \\\n",
       "0  Subaru  Forester             84         Yes                  +   \n",
       "1   Honda       CRV             83         Yes                 ++   \n",
       "2  Toyota      Rav4             81         Yes                 ++   \n",
       "3  Nissan     Rogue             73         Yes                  +   \n",
       "4   Mazda      CX-5             71         Yes                 ++   \n",
       "\n",
       "   Overall Miles Per Gallon  Acceleration (0-60) Sec  \n",
       "0                        26                      8.7  \n",
       "1                        27                      8.6  \n",
       "2                        24                      9.3  \n",
       "3                        24                      9.5  \n",
       "4                        24                      8.6  "
      ]
     },
     "execution_count": 311,
     "metadata": {},
     "output_type": "execute_result"
    }
   ],
   "source": [
    "import pandas as pd\n",
    "suv = pd.read_excel(\"CompactSUV.xlsx\")\n",
    "\n",
    "\n",
    "d = suv.describe()\n",
    "i = suv.info\n",
    "t = suv.groupby(\"Make\").sum()\n",
    "c = suv.columns\n",
    "h = suv.head()\n",
    "h"
   ]
  },
  {
   "cell_type": "markdown",
   "id": "fc1570ee",
   "metadata": {},
   "source": [
    "#### A. How many variables are in the data set?"
   ]
  },
  {
   "cell_type": "code",
   "execution_count": 13,
   "id": "b167faed",
   "metadata": {},
   "outputs": [
    {
     "name": "stdout",
     "output_type": "stream",
     "text": [
      "Total variables in the data set are 15\n"
     ]
    }
   ],
   "source": [
    "print(\"Total variables in the data set are\" , suv.shape[0])"
   ]
  },
  {
   "cell_type": "markdown",
   "id": "f08d4bdb",
   "metadata": {},
   "source": [
    "#### B. Which of the variables are categorical, and which are quantitative?"
   ]
  },
  {
   "cell_type": "code",
   "execution_count": 312,
   "id": "72242dbf",
   "metadata": {
    "scrolled": true
   },
   "outputs": [
    {
     "data": {
      "text/html": [
       "<div>\n",
       "<style scoped>\n",
       "    .dataframe tbody tr th:only-of-type {\n",
       "        vertical-align: middle;\n",
       "    }\n",
       "\n",
       "    .dataframe tbody tr th {\n",
       "        vertical-align: top;\n",
       "    }\n",
       "\n",
       "    .dataframe thead th {\n",
       "        text-align: right;\n",
       "    }\n",
       "</style>\n",
       "<table border=\"1\" class=\"dataframe\">\n",
       "  <thead>\n",
       "    <tr style=\"text-align: right;\">\n",
       "      <th></th>\n",
       "      <th>Make</th>\n",
       "      <th>Model</th>\n",
       "      <th>Overall Score</th>\n",
       "      <th>Recommended</th>\n",
       "      <th>Owner Satisfaction</th>\n",
       "      <th>Overall Miles Per Gallon</th>\n",
       "      <th>Acceleration (0-60) Sec</th>\n",
       "    </tr>\n",
       "  </thead>\n",
       "  <tbody>\n",
       "    <tr>\n",
       "      <th>0</th>\n",
       "      <td>Subaru</td>\n",
       "      <td>Forester</td>\n",
       "      <td>84</td>\n",
       "      <td>Yes</td>\n",
       "      <td>+</td>\n",
       "      <td>26</td>\n",
       "      <td>8.7</td>\n",
       "    </tr>\n",
       "    <tr>\n",
       "      <th>1</th>\n",
       "      <td>Honda</td>\n",
       "      <td>CRV</td>\n",
       "      <td>83</td>\n",
       "      <td>Yes</td>\n",
       "      <td>++</td>\n",
       "      <td>27</td>\n",
       "      <td>8.6</td>\n",
       "    </tr>\n",
       "    <tr>\n",
       "      <th>2</th>\n",
       "      <td>Toyota</td>\n",
       "      <td>Rav4</td>\n",
       "      <td>81</td>\n",
       "      <td>Yes</td>\n",
       "      <td>++</td>\n",
       "      <td>24</td>\n",
       "      <td>9.3</td>\n",
       "    </tr>\n",
       "    <tr>\n",
       "      <th>3</th>\n",
       "      <td>Nissan</td>\n",
       "      <td>Rogue</td>\n",
       "      <td>73</td>\n",
       "      <td>Yes</td>\n",
       "      <td>+</td>\n",
       "      <td>24</td>\n",
       "      <td>9.5</td>\n",
       "    </tr>\n",
       "    <tr>\n",
       "      <th>4</th>\n",
       "      <td>Mazda</td>\n",
       "      <td>CX-5</td>\n",
       "      <td>71</td>\n",
       "      <td>Yes</td>\n",
       "      <td>++</td>\n",
       "      <td>24</td>\n",
       "      <td>8.6</td>\n",
       "    </tr>\n",
       "  </tbody>\n",
       "</table>\n",
       "</div>"
      ],
      "text/plain": [
       "     Make     Model  Overall Score Recommended Owner Satisfaction  \\\n",
       "0  Subaru  Forester             84         Yes                  +   \n",
       "1   Honda       CRV             83         Yes                 ++   \n",
       "2  Toyota      Rav4             81         Yes                 ++   \n",
       "3  Nissan     Rogue             73         Yes                  +   \n",
       "4   Mazda      CX-5             71         Yes                 ++   \n",
       "\n",
       "   Overall Miles Per Gallon  Acceleration (0-60) Sec  \n",
       "0                        26                      8.7  \n",
       "1                        27                      8.6  \n",
       "2                        24                      9.3  \n",
       "3                        24                      9.5  \n",
       "4                        24                      8.6  "
      ]
     },
     "execution_count": 312,
     "metadata": {},
     "output_type": "execute_result"
    }
   ],
   "source": [
    "#Dont confuse Column with integer data type as quantative variables.\n",
    "#Integers column can be qualitative and float can be quantative.\n",
    "\n",
    "h\n",
    "\n",
    "#1. Make, Model,recommend, Owner Satisfaction columns are qualatative.\n",
    "#2. Overall Miles Per Gallon,Score, Acceleration (0-60) Sec are quantative columns."
   ]
  },
  {
   "cell_type": "markdown",
   "id": "54d5f955",
   "metadata": {},
   "source": [
    "#### C. What percentage of these 15 vehicles are recommended?"
   ]
  },
  {
   "cell_type": "code",
   "execution_count": 304,
   "id": "6a895167",
   "metadata": {},
   "outputs": [
    {
     "name": "stdout",
     "output_type": "stream",
     "text": [
      "46.67 %\n"
     ]
    }
   ],
   "source": [
    "#This question is basically about finding ratio with in a columns with two values.\n",
    "\n",
    "recommened_cars = suv[suv[\"Recommended\"].isin([\"Yes\"])].shape[0]\n",
    "total_Cars = suv.shape[0]\n",
    "\n",
    "recommened_to_total_Ratio = recommened_cars/total_Cars\n",
    "\n",
    "#Lets round the number upto two decimal percentage\n",
    "print(round(recommened_to_total_Ratio,4)*100,\"%\")"
   ]
  },
  {
   "cell_type": "markdown",
   "id": "80bab91a",
   "metadata": {},
   "source": [
    "#### D. What is the average of the overall miles per gallon across all 15 vehicles?"
   ]
  },
  {
   "cell_type": "code",
   "execution_count": 16,
   "id": "d4e96f7a",
   "metadata": {},
   "outputs": [
    {
     "data": {
      "text/plain": [
       "24.4"
      ]
     },
     "execution_count": 16,
     "metadata": {},
     "output_type": "execute_result"
    }
   ],
   "source": [
    "suv[\"Overall Miles Per Gallon\"].mean()"
   ]
  },
  {
   "cell_type": "markdown",
   "id": "ebd7a237",
   "metadata": {},
   "source": [
    "#### E. For owner satisfaction, construct a bar chart."
   ]
  },
  {
   "cell_type": "code",
   "execution_count": 296,
   "id": "be4a975d",
   "metadata": {},
   "outputs": [
    {
     "data": {
      "image/png": "[encoded data removed]",
      "text/plain": [
       "<Figure size 432x288 with 1 Axes>"
      ]
     },
     "metadata": {
      "needs_background": "light"
     },
     "output_type": "display_data"
    }
   ],
   "source": [
    "import seaborn as sns\n",
    "import matplotlib.pyplot as plt\n",
    "%matplotlib inline\n",
    "\n",
    "#First Lets group a qualitativ column whihc want to place on x axis and see its frequency distribution of the column\n",
    "os_group = suv.groupby(\"Owner Satisfaction\")\n",
    "os_group.size()\n",
    "\n",
    "#Now lets see all other columns count w.r.t this os_group. Obvisouly count for each column will come same.\n",
    "os_group.count()\n",
    "\n",
    "#Now lets see first sum and then average of each column w.r.t os_group \n",
    "os_group.sum()\n",
    "os_group.mean()\n",
    "\n",
    "#If we want to see just one column count or sum or mean w.r.t to os_group just put column name next to command.\n",
    "os_group.sum()[\"Acceleration (0-60) Sec\"]\n",
    "os_group.mean()[\"Overall Miles Per Gallon\"]\n",
    "\n",
    "#Now we can visulize this group values and respective stat value on bar chart. here we are using count in this problem\n",
    "os_bar = os_group.count()[\"Overall Score\"].plot(kind = \"bar\", facecolor = \"b\") #Try sum or mean instead of count\n",
    "\n",
    "os_bar.set_title(\"Histogram of Owner Satisfaction\")\n",
    "plt.ylabel(\"Count of cars\")\n",
    "\n",
    "plt.show()\n",
    "\n"
   ]
  },
  {
   "cell_type": "markdown",
   "id": "63b36d0a",
   "metadata": {},
   "source": [
    "#### F. Show the frequency distribution for acceleration using the following intervals: 7.0– 7.9, 8.0–8.9, 9.0–9.9, and 10.0–10.9."
   ]
  },
  {
   "cell_type": "code",
   "execution_count": 297,
   "id": "0264f5ec",
   "metadata": {},
   "outputs": [
    {
     "data": {
      "image/png": "[encoded data removed]",
      "text/plain": [
       "<Figure size 432x288 with 1 Axes>"
      ]
     },
     "metadata": {
      "needs_background": "light"
     },
     "output_type": "display_data"
    }
   ],
   "source": [
    "#Please note that below histogram is made with matplotlib library\n",
    "\n",
    "#First lets make the eddges for bins w.r.t x reuired values exaple first bin starting from 7 to 7.9\n",
    "bin_edges = [7,7.9,8.9,9.9,11]\n",
    "\n",
    "acc_hist = suv[\"Acceleration (0-60) Sec\"].plot(kind = \"hist\", facecolor='g',alpha=0.5,bins = bin_edges,edgecolor='g')\n",
    "\n",
    "# facecolor - is to choose color for the chart such as \"r\" , \"y\" ,\"b\"\n",
    "# alpha - opcaticy. take svalue from 0 to 1\n",
    "# bins - either give a single digit for number of bins OR  make a list of for esges of each bin.\n",
    "# edgecolor -  choose a color for edges of bins such as \"g\" , \"k\", \"r\"\n",
    "\n",
    "\n",
    "acc_hist.set_title(\"Histogram of Acceleration\")\n",
    "plt.xlabel(\"Acceleration\")    # X xis name\n",
    "plt.xticks([7,7.9,8.9,9.9,10.9])     #points for x axis\n",
    "plt.ylabel(\"Number of cars\")  # Y axis name\n",
    "\n",
    "plt.show() # To see final plot"
   ]
  },
  {
   "cell_type": "markdown",
   "id": "0168444d",
   "metadata": {},
   "source": [
    "_____________________________________________________________________________________________________________________"
   ]
  },
  {
   "cell_type": "code",
   "execution_count": null,
   "id": "c38ab5c4",
   "metadata": {},
   "outputs": [],
   "source": []
  }
 ],
 "metadata": {
  "kernelspec": {
   "display_name": "Python 3",
   "language": "python",
   "name": "python3"
  },
  "language_info": {
   "codemirror_mode": {
    "name": "ipython",
    "version": 3
   },
   "file_extension": ".py",
   "mimetype": "text/x-python",
   "name": "python",
   "nbconvert_exporter": "python",
   "pygments_lexer": "ipython3",
   "version": "3.8.8"
  }
 },
 "nbformat": 4,
 "nbformat_minor": 5
}
