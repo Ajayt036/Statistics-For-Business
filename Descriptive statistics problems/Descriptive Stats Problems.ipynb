{
 "cells": [
  {
   "cell_type": "markdown",
   "id": "f39f354c",
   "metadata": {},
   "source": [
    "# 1. Comparing Compact SUVs"
   ]
  },
  {
   "cell_type": "markdown",
   "id": "bc4edba4",
   "metadata": {},
   "source": [
    "Consumer Reports evaluates products for consumers. The file CompactSUV contains the data for 15 compact sports util- ity vehicles (SUVs) from the 2018 model line (Consumer Reports website):\n",
    "<br>\n",
    "<br>\n",
    "Make—manufacturer\n",
    "<br>\n",
    "Model—name of the model\n",
    "<br>\n",
    "Overall score—awarded based on a variety of measures, including those in this data set \n",
    "<br>\n",
    "Recommended—Consumer Reports recommends the vehicle or not\n",
    "<br>\n",
    "Owner satisfaction—satisfaction on a five-point scale based on the percentage of owners who would purchase the vehicle again (– –, –, 0, +, ++)\n",
    "<br>\n",
    "Overall miles per gallon—miles per gallon achieved in a 150-mile test trip.\n",
    "<br>\n",
    "Acceleration (0–60 sec)—time in seconds it takes vehicle to reach 60 miles per hour from a standstill with the engine idling.\n",
    "\n",
    "a. How many variables are in the data set?\n",
    "<br>\n",
    "b. Which of the variables are categorical, and which are quantitative?\n",
    "<br>\n",
    "c. What percentage of these 15 vehicles are recommended?\n",
    "<br>\n",
    "d. What is the average of the overall miles per gallon across all 15 vehicles?\n",
    "<br>\n",
    "e. For owner satisfaction, construct a bar chart similar\n",
    "<br>\n",
    "f. Show the frequency distribution for acceleration using the following intervals: 7.0– 7.9, 8.0–8.9, 9.0–9.9, and 10.0–10.9. Construct a histogram \n",
    "<br>"
   ]
  },
  {
   "cell_type": "markdown",
   "id": "87f0329f",
   "metadata": {},
   "source": [
    "#### First Let's panda library and read the data set. And keep [d,i,t,c,h] describe ,info, table, col_names and head ready for data view."
   ]
  },
  {
   "cell_type": "code",
   "execution_count": 71,
   "id": "4d421a61",
   "metadata": {},
   "outputs": [
    {
     "name": "stdout",
     "output_type": "stream",
     "text": [
      "<class 'pandas.core.frame.DataFrame'>\n",
      "RangeIndex: 15 entries, 0 to 14\n",
      "Data columns (total 7 columns):\n",
      " #   Column                    Non-Null Count  Dtype  \n",
      "---  ------                    --------------  -----  \n",
      " 0   Make                      15 non-null     object \n",
      " 1   Model                     15 non-null     object \n",
      " 2   Overall Score             15 non-null     int64  \n",
      " 3   Recommended               15 non-null     object \n",
      " 4   Owner Satisfaction        15 non-null     object \n",
      " 5   Overall Miles Per Gallon  15 non-null     int64  \n",
      " 6   Acceleration (0-60) Sec   15 non-null     float64\n",
      "dtypes: float64(1), int64(2), object(4)\n",
      "memory usage: 968.0+ bytes\n"
     ]
    }
   ],
   "source": [
    "import pandas as pd\n",
    "suv = pd.read_excel(\"CompactSUV.xlsx\")\n",
    "\n",
    "\n",
    "d = suv.describe()\n",
    "i = suv.info()\n",
    "t = suv.groupby(\"Make\").sum()\n",
    "c = suv.columns\n",
    "h = suv.head()"
   ]
  },
  {
   "cell_type": "markdown",
   "id": "fc1570ee",
   "metadata": {},
   "source": [
    "#### A. How many variables are in the data set?"
   ]
  },
  {
   "cell_type": "code",
   "execution_count": 52,
   "id": "b167faed",
   "metadata": {},
   "outputs": [
    {
     "name": "stdout",
     "output_type": "stream",
     "text": [
      "Total variables in the data set are 15\n"
     ]
    }
   ],
   "source": [
    "print(\"Total variables in the data set are\" , suv.shape[0])"
   ]
  },
  {
   "cell_type": "markdown",
   "id": "f08d4bdb",
   "metadata": {},
   "source": [
    "#### B. Which of the variables are categorical, and which are quantitative?"
   ]
  },
  {
   "cell_type": "code",
   "execution_count": 70,
   "id": "72242dbf",
   "metadata": {
    "scrolled": true
   },
   "outputs": [
    {
     "data": {
      "text/html": [
       "<div>\n",
       "<style scoped>\n",
       "    .dataframe tbody tr th:only-of-type {\n",
       "        vertical-align: middle;\n",
       "    }\n",
       "\n",
       "    .dataframe tbody tr th {\n",
       "        vertical-align: top;\n",
       "    }\n",
       "\n",
       "    .dataframe thead th {\n",
       "        text-align: right;\n",
       "    }\n",
       "</style>\n",
       "<table border=\"1\" class=\"dataframe\">\n",
       "  <thead>\n",
       "    <tr style=\"text-align: right;\">\n",
       "      <th></th>\n",
       "      <th>Make</th>\n",
       "      <th>Model</th>\n",
       "      <th>Overall Score</th>\n",
       "      <th>Recommended</th>\n",
       "      <th>Owner Satisfaction</th>\n",
       "      <th>Overall Miles Per Gallon</th>\n",
       "      <th>Acceleration (0-60) Sec</th>\n",
       "    </tr>\n",
       "  </thead>\n",
       "  <tbody>\n",
       "    <tr>\n",
       "      <th>0</th>\n",
       "      <td>Subaru</td>\n",
       "      <td>Forester</td>\n",
       "      <td>84</td>\n",
       "      <td>Yes</td>\n",
       "      <td>+</td>\n",
       "      <td>26</td>\n",
       "      <td>8.7</td>\n",
       "    </tr>\n",
       "    <tr>\n",
       "      <th>1</th>\n",
       "      <td>Honda</td>\n",
       "      <td>CRV</td>\n",
       "      <td>83</td>\n",
       "      <td>Yes</td>\n",
       "      <td>++</td>\n",
       "      <td>27</td>\n",
       "      <td>8.6</td>\n",
       "    </tr>\n",
       "    <tr>\n",
       "      <th>2</th>\n",
       "      <td>Toyota</td>\n",
       "      <td>Rav4</td>\n",
       "      <td>81</td>\n",
       "      <td>Yes</td>\n",
       "      <td>++</td>\n",
       "      <td>24</td>\n",
       "      <td>9.3</td>\n",
       "    </tr>\n",
       "    <tr>\n",
       "      <th>3</th>\n",
       "      <td>Nissan</td>\n",
       "      <td>Rogue</td>\n",
       "      <td>73</td>\n",
       "      <td>Yes</td>\n",
       "      <td>+</td>\n",
       "      <td>24</td>\n",
       "      <td>9.5</td>\n",
       "    </tr>\n",
       "    <tr>\n",
       "      <th>4</th>\n",
       "      <td>Mazda</td>\n",
       "      <td>CX-5</td>\n",
       "      <td>71</td>\n",
       "      <td>Yes</td>\n",
       "      <td>++</td>\n",
       "      <td>24</td>\n",
       "      <td>8.6</td>\n",
       "    </tr>\n",
       "  </tbody>\n",
       "</table>\n",
       "</div>"
      ],
      "text/plain": [
       "     Make     Model  Overall Score Recommended Owner Satisfaction  \\\n",
       "0  Subaru  Forester             84         Yes                  +   \n",
       "1   Honda       CRV             83         Yes                 ++   \n",
       "2  Toyota      Rav4             81         Yes                 ++   \n",
       "3  Nissan     Rogue             73         Yes                  +   \n",
       "4   Mazda      CX-5             71         Yes                 ++   \n",
       "\n",
       "   Overall Miles Per Gallon  Acceleration (0-60) Sec  \n",
       "0                        26                      8.7  \n",
       "1                        27                      8.6  \n",
       "2                        24                      9.3  \n",
       "3                        24                      9.5  \n",
       "4                        24                      8.6  "
      ]
     },
     "execution_count": 70,
     "metadata": {},
     "output_type": "execute_result"
    }
   ],
   "source": [
    "#Dont confuse Column with integer data type as quantative variables.\n",
    "#Integers column can be qualitative and float can be quantative.\n",
    "\n",
    "h\n",
    "\n",
    "#1. Make, Model,recommend, Owner Satisfaction columns are qualatative.\n",
    "#2. Overall Miles Per Gallon,Score Acceleration (0-60) Sec are quantative columns."
   ]
  },
  {
   "cell_type": "markdown",
   "id": "54d5f955",
   "metadata": {},
   "source": [
    "#### C. What percentage of these 15 vehicles are recommended?"
   ]
  },
  {
   "cell_type": "code",
   "execution_count": 60,
   "id": "6a895167",
   "metadata": {},
   "outputs": [
    {
     "data": {
      "text/plain": [
       "0.4666666666666667"
      ]
     },
     "execution_count": 60,
     "metadata": {},
     "output_type": "execute_result"
    }
   ],
   "source": [
    "#This question is basically about finding ratio with in a columns with two values.\n",
    "\n",
    "recommened_cars = suv[suv[\"Recommended\"].isin([\"Yes\"])].shape[0]\n",
    "total_Cars = suv.shape[0]\n",
    "\n",
    "recommened_to_total_Ratio = recommened_cars/total_Cars\n",
    "recommened_to_total_Ratio"
   ]
  },
  {
   "cell_type": "markdown",
   "id": "80bab91a",
   "metadata": {},
   "source": [
    "#### D. What is the average of the overall miles per gallon across all 15 vehicles?"
   ]
  },
  {
   "cell_type": "code",
   "execution_count": 55,
   "id": "d4e96f7a",
   "metadata": {},
   "outputs": [
    {
     "data": {
      "text/plain": [
       "24.4"
      ]
     },
     "execution_count": 55,
     "metadata": {},
     "output_type": "execute_result"
    }
   ],
   "source": [
    "suv[\"Overall Miles Per Gallon\"].mean()"
   ]
  },
  {
   "cell_type": "markdown",
   "id": "ebd7a237",
   "metadata": {},
   "source": [
    "#### E. For owner satisfaction, construct a bar chart similar."
   ]
  },
  {
   "cell_type": "code",
   "execution_count": 65,
   "id": "9f3bb281",
   "metadata": {},
   "outputs": [
    {
     "ename": "NameError",
     "evalue": "name 'recommended' is not defined",
     "output_type": "error",
     "traceback": [
      "\u001b[0;31m---------------------------------------------------------------------------\u001b[0m",
      "\u001b[0;31mNameError\u001b[0m                                 Traceback (most recent call last)",
      "\u001b[0;32m<ipython-input-65-93eef211625c>\u001b[0m in \u001b[0;36m<module>\u001b[0;34m\u001b[0m\n\u001b[1;32m      6\u001b[0m \u001b[0;32mimport\u001b[0m \u001b[0mmatplotlib\u001b[0m\u001b[0;34m.\u001b[0m\u001b[0mpyplot\u001b[0m \u001b[0;32mas\u001b[0m \u001b[0mplt\u001b[0m\u001b[0;34m\u001b[0m\u001b[0;34m\u001b[0m\u001b[0m\n\u001b[1;32m      7\u001b[0m \u001b[0;34m\u001b[0m\u001b[0m\n\u001b[0;32m----> 8\u001b[0;31m \u001b[0mrecommended\u001b[0m\u001b[0;34m.\u001b[0m\u001b[0mgroup\u001b[0m \u001b[0;34m=\u001b[0m \u001b[0msuv\u001b[0m\u001b[0;34m.\u001b[0m\u001b[0mgroupby\u001b[0m\u001b[0;34m(\u001b[0m\u001b[0;34m'Recommended'\u001b[0m\u001b[0;34m)\u001b[0m\u001b[0;34m\u001b[0m\u001b[0;34m\u001b[0m\u001b[0m\n\u001b[0m\u001b[1;32m      9\u001b[0m \u001b[0mrecommended\u001b[0m\u001b[0;34m.\u001b[0m\u001b[0mgroup\u001b[0m\u001b[0;34m.\u001b[0m\u001b[0msize\u001b[0m\u001b[0;34m(\u001b[0m\u001b[0;34m)\u001b[0m\u001b[0;34m\u001b[0m\u001b[0;34m\u001b[0m\u001b[0m\n\u001b[1;32m     10\u001b[0m \u001b[0mbar_plot\u001b[0m \u001b[0;34m=\u001b[0m \u001b[0mrecommended\u001b[0m\u001b[0;34m.\u001b[0m\u001b[0mgroup\u001b[0m\u001b[0;34m.\u001b[0m\u001b[0msum\u001b[0m\u001b[0;34m(\u001b[0m\u001b[0;34m)\u001b[0m\u001b[0;34m[\u001b[0m\u001b[0;34m\"Overall Score\"\u001b[0m\u001b[0;34m]\u001b[0m\u001b[0;34m.\u001b[0m\u001b[0mplot\u001b[0m\u001b[0;34m(\u001b[0m\u001b[0mkind\u001b[0m \u001b[0;34m=\u001b[0m \u001b[0;34m\"bar\"\u001b[0m\u001b[0;34m)\u001b[0m\u001b[0;34m\u001b[0m\u001b[0;34m\u001b[0m\u001b[0m\n",
      "\u001b[0;31mNameError\u001b[0m: name 'recommended' is not defined"
     ]
    }
   ],
   "source": [
    "#To make Barplot, we first need to take one Qualitative column, group it, place the unique values in x-axis \n",
    "#And then decide weather we are going to plot distribution, sum, average or any other calculation.\n",
    "#since qualitative column can have any above caluclation on itself, we need to do it w.r.t a quantative column.\n",
    "\n",
    "import seaborn as sns\n",
    "import matplotlib.pyplot as plt\n",
    "\n",
    "recommended.group = suv.groupby('Recommended')\n",
    "recommended.group.size()\n",
    "bar_plot = recommended.group.sum()[\"Overall Score\"].plot(kind = \"bar\")\n",
    "\n",
    "\n",
    "bar_plot.set_xlabel(\"Recommed\")\n",
    "bar_plot.set_ylabel(\"Number of Cars\")\n",
    "plt.show()\n"
   ]
  },
  {
   "cell_type": "code",
   "execution_count": 74,
   "id": "923ae9bd",
   "metadata": {},
   "outputs": [
    {
     "data": {
      "image/png": "[encoded data removed]",
      "text/plain": [
       "<Figure size 432x288 with 1 Axes>"
      ]
     },
     "metadata": {
      "needs_background": "light"
     },
     "output_type": "display_data"
    }
   ],
   "source": [
    "recommended_group = suv.groupby('Recommended')\n",
    "recommended_group.size()\n",
    "bar_plot = recommended_group.sum()[\"Overall Score\"].plot(kind = \"bar\")"
   ]
  },
  {
   "cell_type": "markdown",
   "id": "63b36d0a",
   "metadata": {},
   "source": [
    "#### F. Show the frequency distribution for acceleration using the following intervals: 7.0– 7.9, 8.0–8.9, 9.0–9.9, and 10.0–10.9."
   ]
  },
  {
   "cell_type": "code",
   "execution_count": 75,
   "id": "dbece720",
   "metadata": {},
   "outputs": [
    {
     "data": {
      "image/png": "[encoded data removed]",
      "text/plain": [
       "<Figure size 432x288 with 1 Axes>"
      ]
     },
     "metadata": {
      "needs_background": "light"
     },
     "output_type": "display_data"
    }
   ],
   "source": [
    "#suv[\"Acceleration (0-60) Sec\"].plot(kind = \"bar\", bin =5)\n",
    "\n",
    "acc_hist = suv['Acceleration (0-60) Sec'].hist(bins=8)\n",
    "plt.xlim(xmin=7, xmax = 10.9)\n",
    "plt.show()"
   ]
  }
 ],
 "metadata": {
  "kernelspec": {
   "display_name": "Python 3",
   "language": "python",
   "name": "python3"
  },
  "language_info": {
   "codemirror_mode": {
    "name": "ipython",
    "version": 3
   },
   "file_extension": ".py",
   "mimetype": "text/x-python",
   "name": "python",
   "nbconvert_exporter": "python",
   "pygments_lexer": "ipython3",
   "version": "3.8.8"
  }
 },
 "nbformat": 4,
 "nbformat_minor": 5
}
